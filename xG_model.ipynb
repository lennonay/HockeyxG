{
 "cells": [
  {
   "cell_type": "code",
   "execution_count": 4,
   "id": "b1cdb37b-a164-409d-9911-6f4293a7d5cc",
   "metadata": {},
   "outputs": [
    {
     "data": {
      "text/plain": [
       "DataTransformerRegistry.enable('data_server')"
      ]
     },
     "execution_count": 4,
     "metadata": {},
     "output_type": "execute_result"
    }
   ],
   "source": [
    "import pandas as pd\n",
    "from sklearn.model_selection import train_test_split, GridSearchCV, cross_validate, RandomizedSearchCV\n",
    "import numpy as np\n",
    "import matplotlib.pyplot as plt\n",
    "from scipy.stats import loguniform, randint, uniform\n",
    "import warnings\n",
    "from sklearn.pipeline import make_pipeline\n",
    "from sklearn.metrics import roc_auc_score\n",
    "from sklearn.ensemble import RandomForestClassifier, GradientBoostingClassifier\n",
    "from sklearn.linear_model import LogisticRegression, SGDClassifier\n",
    "from sklearn.preprocessing import (\n",
    "    OneHotEncoder,\n",
    "    StandardScaler,\n",
    ")\n",
    "from sklearn.compose import ColumnTransformer, make_column_transformer\n",
    "from sklearn.metrics import roc_curve, auc, log_loss\n",
    "import altair as alt\n",
    "from sklearn.impute import SimpleImputer\n",
    "warnings.filterwarnings(\"ignore\")\n",
    "alt.data_transformers.enable('data_server')"
   ]
  },
  {
   "cell_type": "code",
   "execution_count": 5,
   "id": "15a130e5-2730-4b22-9be2-e76c91880dfe",
   "metadata": {},
   "outputs": [],
   "source": [
    "data = pd.read_csv('data/shots_2021.csv')"
   ]
  },
  {
   "cell_type": "code",
   "execution_count": 6,
   "id": "78f9fb67-cf1c-47d8-a93d-1cd3dec05bfd",
   "metadata": {},
   "outputs": [],
   "source": [
    "lst = [\"shotType\",\"shotAngle\",\"arenaAdjustedShotDistance\", \"arenaAdjustedXCordABS\", \"arenaAdjustedYCordAbs\",\n",
    "       \"awayEmptyNet\", \"awayPenalty1Length\", \"awayPenalty1TimeLeft\", \"awaySkatersOnIce\", \"awayTeamGoals\",\n",
    "       \"defendingTeamDefencemenOnIce\",\"defendingTeamForwardsOnIce\", \"distanceFromLastEvent\", \"event\",\n",
    "      \"homeEmptyNet\", \"homePenalty1Length\", \"homePenalty1TimeLeft\", \"homeSkatersOnIce\", \"homeTeamGoals\",\n",
    "      \"isHomeTeam\", \"isPlayoffGame\", \"lastEventCategory\", \"shooterLeftRight\", \n",
    "      \"shootingTeamDefencemenOnIce\", \"shootingTeamForwardsOnIce\", \"team\",\"goal\"]"
   ]
  },
  {
   "cell_type": "code",
   "execution_count": 7,
   "id": "89673678-b516-42a2-a62e-e632a73432ff",
   "metadata": {},
   "outputs": [],
   "source": [
    "lst_1 = [\"shotType\",\"shotAngle\",\"arenaAdjustedShotDistance\", \"shooterLeftRight\",\"xCordAdjusted\",\n",
    "         \"yCordAdjusted\",\"awayEmptyNet\",\"awayTeamGoals\",\n",
    "       \"defendingTeamDefencemenOnIce\",\"defendingTeamForwardsOnIce\", \"distanceFromLastEvent\", \n",
    "      \"homeEmptyNet\", \"homeTeamGoals\", \"isPlayoffGame\", \"lastEventCategory\",\n",
    "      \"shootingTeamDefencemenOnIce\", \"shootingTeamForwardsOnIce\", \"team\",\"goal\"]"
   ]
  },
  {
   "cell_type": "code",
   "execution_count": 8,
   "id": "c6d1d408-62c5-4dfd-a1ef-21923cecddc2",
   "metadata": {},
   "outputs": [],
   "source": [
    "data_1 = data[lst_1]"
   ]
  },
  {
   "cell_type": "code",
   "execution_count": 9,
   "id": "e224b45f-de6e-4c53-b684-0297cf81ee15",
   "metadata": {},
   "outputs": [],
   "source": [
    "data_1['shootingTeamEmptyNet'] = np.where(data_1['team'] == 'HOME',data_1[\"homeEmptyNet\"],data_1[\"awayEmptyNet\"])\n",
    "data_1['shootingTeamGoals'] = np.where(data_1['team'] == 'HOME',data_1[\"homeTeamGoals\"],data_1[\"awayTeamGoals\"])\n",
    "data_1['defendingTeamEmptyNet'] = np.where(data_1['team'] == 'HOME',data_1[\"awayEmptyNet\"],data_1[\"homeEmptyNet\"])\n",
    "data_1['defendingTeamGoals'] = np.where(data_1['team'] == 'HOME',data_1[\"awayTeamGoals\"],data_1[\"homeTeamGoals\"])"
   ]
  },
  {
   "cell_type": "code",
   "execution_count": 10,
   "id": "a7154690-3ea4-46d7-95d6-e3d570fb7224",
   "metadata": {},
   "outputs": [],
   "source": [
    "data_1 = data_1.drop(['homeEmptyNet','homeTeamGoals','awayEmptyNet','awayTeamGoals' ],axis = 1)"
   ]
  },
  {
   "cell_type": "code",
   "execution_count": 11,
   "id": "59e5baac-ee76-4bb1-8d89-8488b087f979",
   "metadata": {},
   "outputs": [
    {
     "data": {
      "text/html": [
       "<div>\n",
       "<style scoped>\n",
       "    .dataframe tbody tr th:only-of-type {\n",
       "        vertical-align: middle;\n",
       "    }\n",
       "\n",
       "    .dataframe tbody tr th {\n",
       "        vertical-align: top;\n",
       "    }\n",
       "\n",
       "    .dataframe thead th {\n",
       "        text-align: right;\n",
       "    }\n",
       "</style>\n",
       "<table border=\"1\" class=\"dataframe\">\n",
       "  <thead>\n",
       "    <tr style=\"text-align: right;\">\n",
       "      <th></th>\n",
       "      <th>0</th>\n",
       "      <th>1</th>\n",
       "    </tr>\n",
       "  </thead>\n",
       "  <tbody>\n",
       "    <tr>\n",
       "      <th>goal</th>\n",
       "      <td>112774</td>\n",
       "      <td>8697</td>\n",
       "    </tr>\n",
       "  </tbody>\n",
       "</table>\n",
       "</div>"
      ],
      "text/plain": [
       "           0     1\n",
       "goal  112774  8697"
      ]
     },
     "execution_count": 11,
     "metadata": {},
     "output_type": "execute_result"
    }
   ],
   "source": [
    "pd.DataFrame(data_1['goal'].value_counts()).T"
   ]
  },
  {
   "cell_type": "code",
   "execution_count": 12,
   "id": "78c11ce7-5b42-40f4-8877-570154db24f5",
   "metadata": {},
   "outputs": [],
   "source": [
    "X = data_1.drop('goal', axis = 1 )\n",
    "y = data_1['goal']"
   ]
  },
  {
   "cell_type": "code",
   "execution_count": 13,
   "id": "51ad4ef8-769f-42ce-a43f-70f08021f0ce",
   "metadata": {},
   "outputs": [],
   "source": [
    "X_train, X_test, y_train, y_test  = train_test_split(X,y,test_size = 0.5, random_state = 123)"
   ]
  },
  {
   "cell_type": "code",
   "execution_count": 14,
   "id": "7806f335-8b31-4881-bcfb-4ba35781fefd",
   "metadata": {
    "tags": []
   },
   "outputs": [],
   "source": [
    "train = pd.concat([X_train, y_train], axis = 1)"
   ]
  },
  {
   "cell_type": "code",
   "execution_count": 15,
   "id": "d50e24f4-af12-4a80-919c-bac153ce47bf",
   "metadata": {},
   "outputs": [
    {
     "data": {
      "text/plain": [
       "Index(['shotType', 'shotAngle', 'arenaAdjustedShotDistance',\n",
       "       'shooterLeftRight', 'xCordAdjusted', 'yCordAdjusted',\n",
       "       'defendingTeamDefencemenOnIce', 'defendingTeamForwardsOnIce',\n",
       "       'distanceFromLastEvent', 'isPlayoffGame', 'lastEventCategory',\n",
       "       'shootingTeamDefencemenOnIce', 'shootingTeamForwardsOnIce', 'team',\n",
       "       'shootingTeamEmptyNet', 'shootingTeamGoals', 'defendingTeamEmptyNet',\n",
       "       'defendingTeamGoals', 'goal'],\n",
       "      dtype='object')"
      ]
     },
     "execution_count": 15,
     "metadata": {},
     "output_type": "execute_result"
    }
   ],
   "source": [
    "train.columns"
   ]
  },
  {
   "cell_type": "code",
   "execution_count": 16,
   "id": "8a475f05-9601-4537-a831-65636c1a8a23",
   "metadata": {},
   "outputs": [
    {
     "name": "stdout",
     "output_type": "stream",
     "text": [
      "<class 'pandas.core.frame.DataFrame'>\n",
      "Int64Index: 60735 entries, 69064 to 118270\n",
      "Data columns (total 19 columns):\n",
      " #   Column                        Non-Null Count  Dtype  \n",
      "---  ------                        --------------  -----  \n",
      " 0   shotType                      60733 non-null  object \n",
      " 1   shotAngle                     60735 non-null  float64\n",
      " 2   arenaAdjustedShotDistance     60735 non-null  float64\n",
      " 3   shooterLeftRight              60732 non-null  object \n",
      " 4   xCordAdjusted                 60735 non-null  int64  \n",
      " 5   yCordAdjusted                 60735 non-null  int64  \n",
      " 6   defendingTeamDefencemenOnIce  60735 non-null  int64  \n",
      " 7   defendingTeamForwardsOnIce    60735 non-null  int64  \n",
      " 8   distanceFromLastEvent         60735 non-null  float64\n",
      " 9   isPlayoffGame                 60735 non-null  int64  \n",
      " 10  lastEventCategory             60735 non-null  object \n",
      " 11  shootingTeamDefencemenOnIce   60735 non-null  int64  \n",
      " 12  shootingTeamForwardsOnIce     60735 non-null  int64  \n",
      " 13  team                          60735 non-null  object \n",
      " 14  shootingTeamEmptyNet          60735 non-null  int64  \n",
      " 15  shootingTeamGoals             60735 non-null  int64  \n",
      " 16  defendingTeamEmptyNet         60735 non-null  int64  \n",
      " 17  defendingTeamGoals            60735 non-null  int64  \n",
      " 18  goal                          60735 non-null  int64  \n",
      "dtypes: float64(3), int64(12), object(4)\n",
      "memory usage: 9.3+ MB\n"
     ]
    }
   ],
   "source": [
    "train.info()"
   ]
  },
  {
   "cell_type": "code",
   "execution_count": 17,
   "id": "032039df-72eb-4ef9-a913-eeb4762c6467",
   "metadata": {},
   "outputs": [
    {
     "data": {
      "text/html": [
       "\n",
       "<div id=\"altair-viz-41e989e9d83a4fa89941d4b3010a7f0c\"></div>\n",
       "<script type=\"text/javascript\">\n",
       "  var VEGA_DEBUG = (typeof VEGA_DEBUG == \"undefined\") ? {} : VEGA_DEBUG;\n",
       "  (function(spec, embedOpt){\n",
       "    let outputDiv = document.currentScript.previousElementSibling;\n",
       "    if (outputDiv.id !== \"altair-viz-41e989e9d83a4fa89941d4b3010a7f0c\") {\n",
       "      outputDiv = document.getElementById(\"altair-viz-41e989e9d83a4fa89941d4b3010a7f0c\");\n",
       "    }\n",
       "    const paths = {\n",
       "      \"vega\": \"https://cdn.jsdelivr.net/npm//vega@5?noext\",\n",
       "      \"vega-lib\": \"https://cdn.jsdelivr.net/npm//vega-lib?noext\",\n",
       "      \"vega-lite\": \"https://cdn.jsdelivr.net/npm//vega-lite@4.17.0?noext\",\n",
       "      \"vega-embed\": \"https://cdn.jsdelivr.net/npm//vega-embed@6?noext\",\n",
       "    };\n",
       "\n",
       "    function maybeLoadScript(lib, version) {\n",
       "      var key = `${lib.replace(\"-\", \"\")}_version`;\n",
       "      return (VEGA_DEBUG[key] == version) ?\n",
       "        Promise.resolve(paths[lib]) :\n",
       "        new Promise(function(resolve, reject) {\n",
       "          var s = document.createElement('script');\n",
       "          document.getElementsByTagName(\"head\")[0].appendChild(s);\n",
       "          s.async = true;\n",
       "          s.onload = () => {\n",
       "            VEGA_DEBUG[key] = version;\n",
       "            return resolve(paths[lib]);\n",
       "          };\n",
       "          s.onerror = () => reject(`Error loading script: ${paths[lib]}`);\n",
       "          s.src = paths[lib];\n",
       "        });\n",
       "    }\n",
       "\n",
       "    function showError(err) {\n",
       "      outputDiv.innerHTML = `<div class=\"error\" style=\"color:red;\">${err}</div>`;\n",
       "      throw err;\n",
       "    }\n",
       "\n",
       "    function displayChart(vegaEmbed) {\n",
       "      vegaEmbed(outputDiv, spec, embedOpt)\n",
       "        .catch(err => showError(`Javascript Error: ${err.message}<br>This usually means there's a typo in your chart specification. See the javascript console for the full traceback.`));\n",
       "    }\n",
       "\n",
       "    if(typeof define === \"function\" && define.amd) {\n",
       "      requirejs.config({paths});\n",
       "      require([\"vega-embed\"], displayChart, err => showError(`Error loading script: ${err.message}`));\n",
       "    } else {\n",
       "      maybeLoadScript(\"vega\", \"5\")\n",
       "        .then(() => maybeLoadScript(\"vega-lite\", \"4.17.0\"))\n",
       "        .then(() => maybeLoadScript(\"vega-embed\", \"6\"))\n",
       "        .catch(showError)\n",
       "        .then(() => displayChart(vegaEmbed));\n",
       "    }\n",
       "  })({\"config\": {\"view\": {\"continuousWidth\": 400, \"continuousHeight\": 300}}, \"repeat\": [\"shotAngle\"], \"spec\": {\"data\": {\"url\": \"http://localhost:55095/d9af0be6c8d345799392091b4545972f.json\"}, \"facet\": {\"field\": \"goal\", \"type\": \"quantitative\"}, \"spec\": {\"mark\": \"bar\", \"encoding\": {\"x\": {\"bin\": {\"maxbins\": 40}, \"field\": {\"repeat\": \"repeat\"}, \"type\": \"quantitative\"}, \"y\": {\"aggregate\": \"count\", \"type\": \"quantitative\"}}}}, \"$schema\": \"https://vega.github.io/schema/vega-lite/v4.17.0.json\"}, {\"mode\": \"vega-lite\"});\n",
       "</script>"
      ],
      "text/plain": [
       "alt.RepeatChart(...)"
      ]
     },
     "execution_count": 17,
     "metadata": {},
     "output_type": "execute_result"
    }
   ],
   "source": [
    "alt.Chart(train).mark_bar().encode(\n",
    "    alt.X(alt.repeat(),type = 'quantitative', bin = alt.Bin(maxbins=40)),\n",
    "    y = 'count()'\n",
    ").facet('goal').repeat(['shotAngle'])"
   ]
  },
  {
   "cell_type": "code",
   "execution_count": 35,
   "id": "5496bfaa-bda2-4eb2-9b92-0024fdc63684",
   "metadata": {},
   "outputs": [
    {
     "data": {
      "text/html": [
       "\n",
       "<div id=\"altair-viz-6cf0fefa10bf4ef2a4059338df98c9b6\"></div>\n",
       "<script type=\"text/javascript\">\n",
       "  var VEGA_DEBUG = (typeof VEGA_DEBUG == \"undefined\") ? {} : VEGA_DEBUG;\n",
       "  (function(spec, embedOpt){\n",
       "    let outputDiv = document.currentScript.previousElementSibling;\n",
       "    if (outputDiv.id !== \"altair-viz-6cf0fefa10bf4ef2a4059338df98c9b6\") {\n",
       "      outputDiv = document.getElementById(\"altair-viz-6cf0fefa10bf4ef2a4059338df98c9b6\");\n",
       "    }\n",
       "    const paths = {\n",
       "      \"vega\": \"https://cdn.jsdelivr.net/npm//vega@5?noext\",\n",
       "      \"vega-lib\": \"https://cdn.jsdelivr.net/npm//vega-lib?noext\",\n",
       "      \"vega-lite\": \"https://cdn.jsdelivr.net/npm//vega-lite@4.17.0?noext\",\n",
       "      \"vega-embed\": \"https://cdn.jsdelivr.net/npm//vega-embed@6?noext\",\n",
       "    };\n",
       "\n",
       "    function maybeLoadScript(lib, version) {\n",
       "      var key = `${lib.replace(\"-\", \"\")}_version`;\n",
       "      return (VEGA_DEBUG[key] == version) ?\n",
       "        Promise.resolve(paths[lib]) :\n",
       "        new Promise(function(resolve, reject) {\n",
       "          var s = document.createElement('script');\n",
       "          document.getElementsByTagName(\"head\")[0].appendChild(s);\n",
       "          s.async = true;\n",
       "          s.onload = () => {\n",
       "            VEGA_DEBUG[key] = version;\n",
       "            return resolve(paths[lib]);\n",
       "          };\n",
       "          s.onerror = () => reject(`Error loading script: ${paths[lib]}`);\n",
       "          s.src = paths[lib];\n",
       "        });\n",
       "    }\n",
       "\n",
       "    function showError(err) {\n",
       "      outputDiv.innerHTML = `<div class=\"error\" style=\"color:red;\">${err}</div>`;\n",
       "      throw err;\n",
       "    }\n",
       "\n",
       "    function displayChart(vegaEmbed) {\n",
       "      vegaEmbed(outputDiv, spec, embedOpt)\n",
       "        .catch(err => showError(`Javascript Error: ${err.message}<br>This usually means there's a typo in your chart specification. See the javascript console for the full traceback.`));\n",
       "    }\n",
       "\n",
       "    if(typeof define === \"function\" && define.amd) {\n",
       "      requirejs.config({paths});\n",
       "      require([\"vega-embed\"], displayChart, err => showError(`Error loading script: ${err.message}`));\n",
       "    } else {\n",
       "      maybeLoadScript(\"vega\", \"5\")\n",
       "        .then(() => maybeLoadScript(\"vega-lite\", \"4.17.0\"))\n",
       "        .then(() => maybeLoadScript(\"vega-embed\", \"6\"))\n",
       "        .catch(showError)\n",
       "        .then(() => displayChart(vegaEmbed));\n",
       "    }\n",
       "  })({\"config\": {\"view\": {\"continuousWidth\": 400, \"continuousHeight\": 300}}, \"data\": {\"url\": \"http://localhost:55095/d9af0be6c8d345799392091b4545972f.json\"}, \"mark\": {\"type\": \"point\", \"opacity\": 0.5, \"size\": 0.1}, \"encoding\": {\"x\": {\"field\": \"xCordAdjusted\", \"type\": \"quantitative\"}, \"y\": {\"field\": \"yCordAdjusted\", \"type\": \"quantitative\"}}, \"$schema\": \"https://vega.github.io/schema/vega-lite/v4.17.0.json\"}, {\"mode\": \"vega-lite\"});\n",
       "</script>"
      ],
      "text/plain": [
       "alt.Chart(...)"
      ]
     },
     "execution_count": 35,
     "metadata": {},
     "output_type": "execute_result"
    }
   ],
   "source": [
    "alt.Chart(train).mark_point(opacity=0.5,size = 0.1).encode(\n",
    "    x = 'xCordAdjusted',\n",
    "    y = 'yCordAdjusted',\n",
    "    #color = 'goal',\n",
    ")"
   ]
  },
  {
   "cell_type": "code",
   "execution_count": 18,
   "id": "300f6666-9cb4-4bbd-bdf0-d9d931a7bfd5",
   "metadata": {},
   "outputs": [],
   "source": [
    "def display(i):\n",
    "    graph = alt.Chart(train).transform_density(\n",
    "    i,groupby=['goal'],\n",
    "    as_=[ i, 'density']).mark_area(fill = None, strokeWidth=2).encode(\n",
    "    x = (i),\n",
    "    y='density:Q',stroke=alt.Stroke('goal:O', scale=alt.Scale(scheme='dark2'))).properties(width=200,height=200)\n",
    "    return graph + graph.mark_area(opacity = 0.4).encode(color = alt.Color('goal',legend=None, scale=alt.Scale(scheme='dark2')))"
   ]
  },
  {
   "cell_type": "code",
   "execution_count": 19,
   "id": "09d4621b-c2bf-4d78-a09f-7336029d6682",
   "metadata": {},
   "outputs": [
    {
     "data": {
      "text/html": [
       "\n",
       "<div id=\"altair-viz-e3b4823da9db44b3884959df7e533487\"></div>\n",
       "<script type=\"text/javascript\">\n",
       "  var VEGA_DEBUG = (typeof VEGA_DEBUG == \"undefined\") ? {} : VEGA_DEBUG;\n",
       "  (function(spec, embedOpt){\n",
       "    let outputDiv = document.currentScript.previousElementSibling;\n",
       "    if (outputDiv.id !== \"altair-viz-e3b4823da9db44b3884959df7e533487\") {\n",
       "      outputDiv = document.getElementById(\"altair-viz-e3b4823da9db44b3884959df7e533487\");\n",
       "    }\n",
       "    const paths = {\n",
       "      \"vega\": \"https://cdn.jsdelivr.net/npm//vega@5?noext\",\n",
       "      \"vega-lib\": \"https://cdn.jsdelivr.net/npm//vega-lib?noext\",\n",
       "      \"vega-lite\": \"https://cdn.jsdelivr.net/npm//vega-lite@4.17.0?noext\",\n",
       "      \"vega-embed\": \"https://cdn.jsdelivr.net/npm//vega-embed@6?noext\",\n",
       "    };\n",
       "\n",
       "    function maybeLoadScript(lib, version) {\n",
       "      var key = `${lib.replace(\"-\", \"\")}_version`;\n",
       "      return (VEGA_DEBUG[key] == version) ?\n",
       "        Promise.resolve(paths[lib]) :\n",
       "        new Promise(function(resolve, reject) {\n",
       "          var s = document.createElement('script');\n",
       "          document.getElementsByTagName(\"head\")[0].appendChild(s);\n",
       "          s.async = true;\n",
       "          s.onload = () => {\n",
       "            VEGA_DEBUG[key] = version;\n",
       "            return resolve(paths[lib]);\n",
       "          };\n",
       "          s.onerror = () => reject(`Error loading script: ${paths[lib]}`);\n",
       "          s.src = paths[lib];\n",
       "        });\n",
       "    }\n",
       "\n",
       "    function showError(err) {\n",
       "      outputDiv.innerHTML = `<div class=\"error\" style=\"color:red;\">${err}</div>`;\n",
       "      throw err;\n",
       "    }\n",
       "\n",
       "    function displayChart(vegaEmbed) {\n",
       "      vegaEmbed(outputDiv, spec, embedOpt)\n",
       "        .catch(err => showError(`Javascript Error: ${err.message}<br>This usually means there's a typo in your chart specification. See the javascript console for the full traceback.`));\n",
       "    }\n",
       "\n",
       "    if(typeof define === \"function\" && define.amd) {\n",
       "      requirejs.config({paths});\n",
       "      require([\"vega-embed\"], displayChart, err => showError(`Error loading script: ${err.message}`));\n",
       "    } else {\n",
       "      maybeLoadScript(\"vega\", \"5\")\n",
       "        .then(() => maybeLoadScript(\"vega-lite\", \"4.17.0\"))\n",
       "        .then(() => maybeLoadScript(\"vega-embed\", \"6\"))\n",
       "        .catch(showError)\n",
       "        .then(() => displayChart(vegaEmbed));\n",
       "    }\n",
       "  })({\"config\": {\"view\": {\"continuousWidth\": 400, \"continuousHeight\": 300}}, \"hconcat\": [{\"layer\": [{\"mark\": {\"type\": \"area\", \"fill\": null, \"strokeWidth\": 2}, \"encoding\": {\"stroke\": {\"field\": \"goal\", \"scale\": {\"scheme\": \"dark2\"}, \"type\": \"ordinal\"}, \"x\": {\"field\": \"shotAngle\", \"type\": \"quantitative\"}, \"y\": {\"field\": \"density\", \"type\": \"quantitative\"}}, \"height\": 200, \"transform\": [{\"density\": \"shotAngle\", \"groupby\": [\"goal\"], \"as\": [\"shotAngle\", \"density\"]}], \"width\": 200}, {\"mark\": {\"type\": \"area\", \"opacity\": 0.4}, \"encoding\": {\"color\": {\"field\": \"goal\", \"legend\": null, \"scale\": {\"scheme\": \"dark2\"}, \"type\": \"quantitative\"}, \"stroke\": {\"field\": \"goal\", \"scale\": {\"scheme\": \"dark2\"}, \"type\": \"ordinal\"}, \"x\": {\"field\": \"shotAngle\", \"type\": \"quantitative\"}, \"y\": {\"field\": \"density\", \"type\": \"quantitative\"}}, \"height\": 200, \"transform\": [{\"density\": \"shotAngle\", \"groupby\": [\"goal\"], \"as\": [\"shotAngle\", \"density\"]}], \"width\": 200}]}, {\"layer\": [{\"mark\": {\"type\": \"area\", \"fill\": null, \"strokeWidth\": 2}, \"encoding\": {\"stroke\": {\"field\": \"goal\", \"scale\": {\"scheme\": \"dark2\"}, \"type\": \"ordinal\"}, \"x\": {\"field\": \"arenaAdjustedShotDistance\", \"type\": \"quantitative\"}, \"y\": {\"field\": \"density\", \"type\": \"quantitative\"}}, \"height\": 200, \"transform\": [{\"density\": \"arenaAdjustedShotDistance\", \"groupby\": [\"goal\"], \"as\": [\"arenaAdjustedShotDistance\", \"density\"]}], \"width\": 200}, {\"mark\": {\"type\": \"area\", \"opacity\": 0.4}, \"encoding\": {\"color\": {\"field\": \"goal\", \"legend\": null, \"scale\": {\"scheme\": \"dark2\"}, \"type\": \"quantitative\"}, \"stroke\": {\"field\": \"goal\", \"scale\": {\"scheme\": \"dark2\"}, \"type\": \"ordinal\"}, \"x\": {\"field\": \"arenaAdjustedShotDistance\", \"type\": \"quantitative\"}, \"y\": {\"field\": \"density\", \"type\": \"quantitative\"}}, \"height\": 200, \"transform\": [{\"density\": \"arenaAdjustedShotDistance\", \"groupby\": [\"goal\"], \"as\": [\"arenaAdjustedShotDistance\", \"density\"]}], \"width\": 200}]}, {\"layer\": [{\"mark\": {\"type\": \"area\", \"fill\": null, \"strokeWidth\": 2}, \"encoding\": {\"stroke\": {\"field\": \"goal\", \"scale\": {\"scheme\": \"dark2\"}, \"type\": \"ordinal\"}, \"x\": {\"field\": \"distanceFromLastEvent\", \"type\": \"quantitative\"}, \"y\": {\"field\": \"density\", \"type\": \"quantitative\"}}, \"height\": 200, \"transform\": [{\"density\": \"distanceFromLastEvent\", \"groupby\": [\"goal\"], \"as\": [\"distanceFromLastEvent\", \"density\"]}], \"width\": 200}, {\"mark\": {\"type\": \"area\", \"opacity\": 0.4}, \"encoding\": {\"color\": {\"field\": \"goal\", \"legend\": null, \"scale\": {\"scheme\": \"dark2\"}, \"type\": \"quantitative\"}, \"stroke\": {\"field\": \"goal\", \"scale\": {\"scheme\": \"dark2\"}, \"type\": \"ordinal\"}, \"x\": {\"field\": \"distanceFromLastEvent\", \"type\": \"quantitative\"}, \"y\": {\"field\": \"density\", \"type\": \"quantitative\"}}, \"height\": 200, \"transform\": [{\"density\": \"distanceFromLastEvent\", \"groupby\": [\"goal\"], \"as\": [\"distanceFromLastEvent\", \"density\"]}], \"width\": 200}]}], \"data\": {\"url\": \"http://localhost:55095/d9af0be6c8d345799392091b4545972f.json\"}, \"$schema\": \"https://vega.github.io/schema/vega-lite/v4.17.0.json\"}, {\"mode\": \"vega-lite\"});\n",
       "</script>"
      ],
      "text/plain": [
       "alt.HConcatChart(...)"
      ]
     },
     "execution_count": 19,
     "metadata": {},
     "output_type": "execute_result"
    }
   ],
   "source": [
    "display('shotAngle') | display('arenaAdjustedShotDistance') | display('distanceFromLastEvent')"
   ]
  },
  {
   "cell_type": "code",
   "execution_count": 16,
   "id": "048cbaa6-7100-4967-b98a-4b650a3a2e3e",
   "metadata": {},
   "outputs": [
    {
     "data": {
      "text/html": [
       "\n",
       "<div id=\"altair-viz-8a84f820cc0b401ab4a7cfe77b436fc6\"></div>\n",
       "<script type=\"text/javascript\">\n",
       "  var VEGA_DEBUG = (typeof VEGA_DEBUG == \"undefined\") ? {} : VEGA_DEBUG;\n",
       "  (function(spec, embedOpt){\n",
       "    let outputDiv = document.currentScript.previousElementSibling;\n",
       "    if (outputDiv.id !== \"altair-viz-8a84f820cc0b401ab4a7cfe77b436fc6\") {\n",
       "      outputDiv = document.getElementById(\"altair-viz-8a84f820cc0b401ab4a7cfe77b436fc6\");\n",
       "    }\n",
       "    const paths = {\n",
       "      \"vega\": \"https://cdn.jsdelivr.net/npm//vega@5?noext\",\n",
       "      \"vega-lib\": \"https://cdn.jsdelivr.net/npm//vega-lib?noext\",\n",
       "      \"vega-lite\": \"https://cdn.jsdelivr.net/npm//vega-lite@4.17.0?noext\",\n",
       "      \"vega-embed\": \"https://cdn.jsdelivr.net/npm//vega-embed@6?noext\",\n",
       "    };\n",
       "\n",
       "    function maybeLoadScript(lib, version) {\n",
       "      var key = `${lib.replace(\"-\", \"\")}_version`;\n",
       "      return (VEGA_DEBUG[key] == version) ?\n",
       "        Promise.resolve(paths[lib]) :\n",
       "        new Promise(function(resolve, reject) {\n",
       "          var s = document.createElement('script');\n",
       "          document.getElementsByTagName(\"head\")[0].appendChild(s);\n",
       "          s.async = true;\n",
       "          s.onload = () => {\n",
       "            VEGA_DEBUG[key] = version;\n",
       "            return resolve(paths[lib]);\n",
       "          };\n",
       "          s.onerror = () => reject(`Error loading script: ${paths[lib]}`);\n",
       "          s.src = paths[lib];\n",
       "        });\n",
       "    }\n",
       "\n",
       "    function showError(err) {\n",
       "      outputDiv.innerHTML = `<div class=\"error\" style=\"color:red;\">${err}</div>`;\n",
       "      throw err;\n",
       "    }\n",
       "\n",
       "    function displayChart(vegaEmbed) {\n",
       "      vegaEmbed(outputDiv, spec, embedOpt)\n",
       "        .catch(err => showError(`Javascript Error: ${err.message}<br>This usually means there's a typo in your chart specification. See the javascript console for the full traceback.`));\n",
       "    }\n",
       "\n",
       "    if(typeof define === \"function\" && define.amd) {\n",
       "      requirejs.config({paths});\n",
       "      require([\"vega-embed\"], displayChart, err => showError(`Error loading script: ${err.message}`));\n",
       "    } else {\n",
       "      maybeLoadScript(\"vega\", \"5\")\n",
       "        .then(() => maybeLoadScript(\"vega-lite\", \"4.17.0\"))\n",
       "        .then(() => maybeLoadScript(\"vega-embed\", \"6\"))\n",
       "        .catch(showError)\n",
       "        .then(() => displayChart(vegaEmbed));\n",
       "    }\n",
       "  })({\"config\": {\"view\": {\"continuousWidth\": 400, \"continuousHeight\": 300}}, \"layer\": [{\"mark\": \"line\", \"encoding\": {\"color\": {\"field\": \"goal\", \"legend\": null, \"scale\": {\"scheme\": \"dark2\"}, \"type\": \"quantitative\"}, \"x\": {\"field\": \"shotType\", \"type\": \"nominal\"}, \"y\": {\"aggregate\": \"count\", \"stack\": false, \"type\": \"quantitative\"}}}, {\"mark\": {\"type\": \"area\", \"opacity\": 0.3}, \"encoding\": {\"color\": {\"field\": \"goal\", \"legend\": null, \"scale\": {\"scheme\": \"dark2\"}, \"type\": \"quantitative\"}, \"x\": {\"field\": \"shotType\", \"type\": \"nominal\"}, \"y\": {\"aggregate\": \"count\", \"stack\": false, \"type\": \"quantitative\"}}}], \"data\": {\"url\": \"http://localhost:51622/d9af0be6c8d345799392091b4545972f.json\"}, \"$schema\": \"https://vega.github.io/schema/vega-lite/v4.17.0.json\"}, {\"mode\": \"vega-lite\"});\n",
       "</script>"
      ],
      "text/plain": [
       "alt.LayerChart(...)"
      ]
     },
     "execution_count": 16,
     "metadata": {},
     "output_type": "execute_result"
    }
   ],
   "source": [
    "chart = alt.Chart(train).mark_line().encode(\n",
    "    x = 'shotType',\n",
    "    y = alt.Y('count()',stack=False),\n",
    "    color = alt.Color('goal', legend=None, scale=alt.Scale(scheme='dark2'))\n",
    ") \n",
    "chart + chart.mark_area(opacity=0.3).encode()"
   ]
  },
  {
   "cell_type": "code",
   "execution_count": 17,
   "id": "864fab09-77ad-462a-8308-590849a48d92",
   "metadata": {
    "tags": []
   },
   "outputs": [
    {
     "data": {
      "text/html": [
       "<div>\n",
       "<style scoped>\n",
       "    .dataframe tbody tr th:only-of-type {\n",
       "        vertical-align: middle;\n",
       "    }\n",
       "\n",
       "    .dataframe tbody tr th {\n",
       "        vertical-align: top;\n",
       "    }\n",
       "\n",
       "    .dataframe thead th {\n",
       "        text-align: right;\n",
       "    }\n",
       "</style>\n",
       "<table border=\"1\" class=\"dataframe\">\n",
       "  <thead>\n",
       "    <tr style=\"text-align: right;\">\n",
       "      <th></th>\n",
       "      <th>shotType</th>\n",
       "      <th>shotAngle</th>\n",
       "      <th>arenaAdjustedShotDistance</th>\n",
       "      <th>shooterLeftRight</th>\n",
       "      <th>xCordAdjusted</th>\n",
       "      <th>yCordAdjusted</th>\n",
       "      <th>defendingTeamDefencemenOnIce</th>\n",
       "      <th>defendingTeamForwardsOnIce</th>\n",
       "      <th>distanceFromLastEvent</th>\n",
       "      <th>isPlayoffGame</th>\n",
       "      <th>lastEventCategory</th>\n",
       "      <th>shootingTeamDefencemenOnIce</th>\n",
       "      <th>shootingTeamForwardsOnIce</th>\n",
       "      <th>team</th>\n",
       "      <th>shootingTeamEmptyNet</th>\n",
       "      <th>shootingTeamGoals</th>\n",
       "      <th>defendingTeamEmptyNet</th>\n",
       "      <th>defendingTeamGoals</th>\n",
       "      <th>goal</th>\n",
       "    </tr>\n",
       "  </thead>\n",
       "  <tbody>\n",
       "    <tr>\n",
       "      <th>69064</th>\n",
       "      <td>WRIST</td>\n",
       "      <td>4.085617</td>\n",
       "      <td>15.0</td>\n",
       "      <td>R</td>\n",
       "      <td>75</td>\n",
       "      <td>1</td>\n",
       "      <td>2</td>\n",
       "      <td>3</td>\n",
       "      <td>145.825238</td>\n",
       "      <td>0</td>\n",
       "      <td>FAC</td>\n",
       "      <td>2</td>\n",
       "      <td>3</td>\n",
       "      <td>AWAY</td>\n",
       "      <td>0</td>\n",
       "      <td>1</td>\n",
       "      <td>0</td>\n",
       "      <td>0</td>\n",
       "      <td>0</td>\n",
       "    </tr>\n",
       "    <tr>\n",
       "      <th>32154</th>\n",
       "      <td>WRIST</td>\n",
       "      <td>31.504267</td>\n",
       "      <td>36.0</td>\n",
       "      <td>L</td>\n",
       "      <td>58</td>\n",
       "      <td>19</td>\n",
       "      <td>2</td>\n",
       "      <td>2</td>\n",
       "      <td>11.401754</td>\n",
       "      <td>0</td>\n",
       "      <td>MISS</td>\n",
       "      <td>2</td>\n",
       "      <td>2</td>\n",
       "      <td>AWAY</td>\n",
       "      <td>0</td>\n",
       "      <td>3</td>\n",
       "      <td>0</td>\n",
       "      <td>5</td>\n",
       "      <td>0</td>\n",
       "    </tr>\n",
       "    <tr>\n",
       "      <th>11793</th>\n",
       "      <td>WRIST</td>\n",
       "      <td>-29.981639</td>\n",
       "      <td>62.0</td>\n",
       "      <td>R</td>\n",
       "      <td>37</td>\n",
       "      <td>-30</td>\n",
       "      <td>2</td>\n",
       "      <td>3</td>\n",
       "      <td>44.384682</td>\n",
       "      <td>0</td>\n",
       "      <td>BLOCK</td>\n",
       "      <td>2</td>\n",
       "      <td>3</td>\n",
       "      <td>HOME</td>\n",
       "      <td>0</td>\n",
       "      <td>3</td>\n",
       "      <td>0</td>\n",
       "      <td>1</td>\n",
       "      <td>0</td>\n",
       "    </tr>\n",
       "    <tr>\n",
       "      <th>70132</th>\n",
       "      <td>BACK</td>\n",
       "      <td>-26.565051</td>\n",
       "      <td>22.0</td>\n",
       "      <td>R</td>\n",
       "      <td>73</td>\n",
       "      <td>-8</td>\n",
       "      <td>2</td>\n",
       "      <td>3</td>\n",
       "      <td>66.241981</td>\n",
       "      <td>0</td>\n",
       "      <td>HIT</td>\n",
       "      <td>2</td>\n",
       "      <td>3</td>\n",
       "      <td>AWAY</td>\n",
       "      <td>0</td>\n",
       "      <td>0</td>\n",
       "      <td>0</td>\n",
       "      <td>0</td>\n",
       "      <td>0</td>\n",
       "    </tr>\n",
       "    <tr>\n",
       "      <th>47718</th>\n",
       "      <td>WRIST</td>\n",
       "      <td>29.054604</td>\n",
       "      <td>10.0</td>\n",
       "      <td>R</td>\n",
       "      <td>80</td>\n",
       "      <td>5</td>\n",
       "      <td>2</td>\n",
       "      <td>3</td>\n",
       "      <td>32.249031</td>\n",
       "      <td>0</td>\n",
       "      <td>HIT</td>\n",
       "      <td>2</td>\n",
       "      <td>3</td>\n",
       "      <td>HOME</td>\n",
       "      <td>0</td>\n",
       "      <td>2</td>\n",
       "      <td>0</td>\n",
       "      <td>1</td>\n",
       "      <td>0</td>\n",
       "    </tr>\n",
       "  </tbody>\n",
       "</table>\n",
       "</div>"
      ],
      "text/plain": [
       "      shotType  shotAngle  arenaAdjustedShotDistance shooterLeftRight  \\\n",
       "69064    WRIST   4.085617                       15.0                R   \n",
       "32154    WRIST  31.504267                       36.0                L   \n",
       "11793    WRIST -29.981639                       62.0                R   \n",
       "70132     BACK -26.565051                       22.0                R   \n",
       "47718    WRIST  29.054604                       10.0                R   \n",
       "\n",
       "       xCordAdjusted  yCordAdjusted  defendingTeamDefencemenOnIce  \\\n",
       "69064             75              1                             2   \n",
       "32154             58             19                             2   \n",
       "11793             37            -30                             2   \n",
       "70132             73             -8                             2   \n",
       "47718             80              5                             2   \n",
       "\n",
       "       defendingTeamForwardsOnIce  distanceFromLastEvent  isPlayoffGame  \\\n",
       "69064                           3             145.825238              0   \n",
       "32154                           2              11.401754              0   \n",
       "11793                           3              44.384682              0   \n",
       "70132                           3              66.241981              0   \n",
       "47718                           3              32.249031              0   \n",
       "\n",
       "      lastEventCategory  shootingTeamDefencemenOnIce  \\\n",
       "69064               FAC                            2   \n",
       "32154              MISS                            2   \n",
       "11793             BLOCK                            2   \n",
       "70132               HIT                            2   \n",
       "47718               HIT                            2   \n",
       "\n",
       "       shootingTeamForwardsOnIce  team  shootingTeamEmptyNet  \\\n",
       "69064                          3  AWAY                     0   \n",
       "32154                          2  AWAY                     0   \n",
       "11793                          3  HOME                     0   \n",
       "70132                          3  AWAY                     0   \n",
       "47718                          3  HOME                     0   \n",
       "\n",
       "       shootingTeamGoals  defendingTeamEmptyNet  defendingTeamGoals  goal  \n",
       "69064                  1                      0                   0     0  \n",
       "32154                  3                      0                   5     0  \n",
       "11793                  3                      0                   1     0  \n",
       "70132                  0                      0                   0     0  \n",
       "47718                  2                      0                   1     0  "
      ]
     },
     "execution_count": 17,
     "metadata": {},
     "output_type": "execute_result"
    }
   ],
   "source": [
    "train.head()"
   ]
  },
  {
   "cell_type": "code",
   "execution_count": 18,
   "id": "c84e3d73-d824-4f04-b096-a9945821324b",
   "metadata": {},
   "outputs": [],
   "source": [
    "categorical_features  = ['shotType', 'lastEventCategory','team', 'shooterLeftRight' ]\n",
    "binary_features = ['isPlayoffGame','shootingTeamEmptyNet', 'defendingTeamEmptyNet']"
   ]
  },
  {
   "cell_type": "code",
   "execution_count": 19,
   "id": "f63566e5-0fce-4f77-88fc-0d0ecc5f226d",
   "metadata": {},
   "outputs": [],
   "source": [
    "numeric_features = ['arenaAdjustedShotDistance',\n",
    " 'distanceFromLastEvent',\n",
    " 'shotAngle',\n",
    " 'xCordAdjusted',\n",
    " 'yCordAdjusted','defendingTeamDefencemenOnIce','defendingTeamForwardsOnIce',\n",
    " 'defendingTeamGoals', 'shootingTeamDefencemenOnIce','shootingTeamForwardsOnIce','shootingTeamGoals']"
   ]
  },
  {
   "cell_type": "code",
   "execution_count": 20,
   "id": "ce7d662e-a77e-4948-a447-01ce588e4b7b",
   "metadata": {},
   "outputs": [],
   "source": [
    "preprocessor = make_column_transformer(\n",
    "    (StandardScaler(),numeric_features),\n",
    "    (OneHotEncoder(drop=\"if_binary\", dtype=int), binary_features),\n",
    "    (make_pipeline(SimpleImputer(strategy=\"most_frequent\"),OneHotEncoder(handle_unknown=\"ignore\")), categorical_features)\n",
    ")"
   ]
  },
  {
   "cell_type": "code",
   "execution_count": 21,
   "id": "3dd73716-5310-40f5-881b-140b3a58287d",
   "metadata": {},
   "outputs": [],
   "source": [
    "  param_dist = {\n",
    "        \"logisticregression__C\": loguniform(1e-3, 1e3)\n",
    "    }"
   ]
  },
  {
   "cell_type": "code",
   "execution_count": 22,
   "id": "9f921cc8-6ec4-4fb5-9656-e177a330ad73",
   "metadata": {},
   "outputs": [],
   "source": [
    "pipe_lr_unopt = make_pipeline(\n",
    "    preprocessor, LogisticRegression(penalty='l2', random_state=234, max_iter=10000, tol=.01)\n",
    ")"
   ]
  },
  {
   "cell_type": "code",
   "execution_count": 23,
   "id": "f9df9daa-8e0b-421e-8a4b-82320908cb69",
   "metadata": {},
   "outputs": [],
   "source": [
    "pipe_lr = RandomizedSearchCV(pipe_lr_unopt, param_dist, n_iter = 10, n_jobs = -1, return_train_score = True)"
   ]
  },
  {
   "cell_type": "code",
   "execution_count": 24,
   "id": "ba2a440f-c00c-402e-9460-d81867a54044",
   "metadata": {},
   "outputs": [
    {
     "data": {
      "text/html": [
       "<style>#sk-container-id-1 {color: black;background-color: white;}#sk-container-id-1 pre{padding: 0;}#sk-container-id-1 div.sk-toggleable {background-color: white;}#sk-container-id-1 label.sk-toggleable__label {cursor: pointer;display: block;width: 100%;margin-bottom: 0;padding: 0.3em;box-sizing: border-box;text-align: center;}#sk-container-id-1 label.sk-toggleable__label-arrow:before {content: \"▸\";float: left;margin-right: 0.25em;color: #696969;}#sk-container-id-1 label.sk-toggleable__label-arrow:hover:before {color: black;}#sk-container-id-1 div.sk-estimator:hover label.sk-toggleable__label-arrow:before {color: black;}#sk-container-id-1 div.sk-toggleable__content {max-height: 0;max-width: 0;overflow: hidden;text-align: left;background-color: #f0f8ff;}#sk-container-id-1 div.sk-toggleable__content pre {margin: 0.2em;color: black;border-radius: 0.25em;background-color: #f0f8ff;}#sk-container-id-1 input.sk-toggleable__control:checked~div.sk-toggleable__content {max-height: 200px;max-width: 100%;overflow: auto;}#sk-container-id-1 input.sk-toggleable__control:checked~label.sk-toggleable__label-arrow:before {content: \"▾\";}#sk-container-id-1 div.sk-estimator input.sk-toggleable__control:checked~label.sk-toggleable__label {background-color: #d4ebff;}#sk-container-id-1 div.sk-label input.sk-toggleable__control:checked~label.sk-toggleable__label {background-color: #d4ebff;}#sk-container-id-1 input.sk-hidden--visually {border: 0;clip: rect(1px 1px 1px 1px);clip: rect(1px, 1px, 1px, 1px);height: 1px;margin: -1px;overflow: hidden;padding: 0;position: absolute;width: 1px;}#sk-container-id-1 div.sk-estimator {font-family: monospace;background-color: #f0f8ff;border: 1px dotted black;border-radius: 0.25em;box-sizing: border-box;margin-bottom: 0.5em;}#sk-container-id-1 div.sk-estimator:hover {background-color: #d4ebff;}#sk-container-id-1 div.sk-parallel-item::after {content: \"\";width: 100%;border-bottom: 1px solid gray;flex-grow: 1;}#sk-container-id-1 div.sk-label:hover label.sk-toggleable__label {background-color: #d4ebff;}#sk-container-id-1 div.sk-serial::before {content: \"\";position: absolute;border-left: 1px solid gray;box-sizing: border-box;top: 0;bottom: 0;left: 50%;z-index: 0;}#sk-container-id-1 div.sk-serial {display: flex;flex-direction: column;align-items: center;background-color: white;padding-right: 0.2em;padding-left: 0.2em;position: relative;}#sk-container-id-1 div.sk-item {position: relative;z-index: 1;}#sk-container-id-1 div.sk-parallel {display: flex;align-items: stretch;justify-content: center;background-color: white;position: relative;}#sk-container-id-1 div.sk-item::before, #sk-container-id-1 div.sk-parallel-item::before {content: \"\";position: absolute;border-left: 1px solid gray;box-sizing: border-box;top: 0;bottom: 0;left: 50%;z-index: -1;}#sk-container-id-1 div.sk-parallel-item {display: flex;flex-direction: column;z-index: 1;position: relative;background-color: white;}#sk-container-id-1 div.sk-parallel-item:first-child::after {align-self: flex-end;width: 50%;}#sk-container-id-1 div.sk-parallel-item:last-child::after {align-self: flex-start;width: 50%;}#sk-container-id-1 div.sk-parallel-item:only-child::after {width: 0;}#sk-container-id-1 div.sk-dashed-wrapped {border: 1px dashed gray;margin: 0 0.4em 0.5em 0.4em;box-sizing: border-box;padding-bottom: 0.4em;background-color: white;}#sk-container-id-1 div.sk-label label {font-family: monospace;font-weight: bold;display: inline-block;line-height: 1.2em;}#sk-container-id-1 div.sk-label-container {text-align: center;}#sk-container-id-1 div.sk-container {/* jupyter's `normalize.less` sets `[hidden] { display: none; }` but bootstrap.min.css set `[hidden] { display: none !important; }` so we also need the `!important` here to be able to override the default hidden behavior on the sphinx rendered scikit-learn.org. See: https://github.com/scikit-learn/scikit-learn/issues/21755 */display: inline-block !important;position: relative;}#sk-container-id-1 div.sk-text-repr-fallback {display: none;}</style><div id=\"sk-container-id-1\" class=\"sk-top-container\"><div class=\"sk-text-repr-fallback\"><pre>RandomizedSearchCV(estimator=Pipeline(steps=[(&#x27;columntransformer&#x27;,\n",
       "                                              ColumnTransformer(transformers=[(&#x27;standardscaler&#x27;,\n",
       "                                                                               StandardScaler(),\n",
       "                                                                               [&#x27;arenaAdjustedShotDistance&#x27;,\n",
       "                                                                                &#x27;distanceFromLastEvent&#x27;,\n",
       "                                                                                &#x27;shotAngle&#x27;,\n",
       "                                                                                &#x27;xCordAdjusted&#x27;,\n",
       "                                                                                &#x27;yCordAdjusted&#x27;,\n",
       "                                                                                &#x27;defendingTeamDefencemenOnIce&#x27;,\n",
       "                                                                                &#x27;defendingTeamForwardsOnIce&#x27;,\n",
       "                                                                                &#x27;defendingTeamGoals&#x27;,\n",
       "                                                                                &#x27;shootingTeamDefencemenOnIce&#x27;,\n",
       "                                                                                &#x27;shooting...\n",
       "                                                                                               (&#x27;onehotencoder&#x27;,\n",
       "                                                                                                OneHotEncoder(handle_unknown=&#x27;ignore&#x27;))]),\n",
       "                                                                               [&#x27;shotType&#x27;,\n",
       "                                                                                &#x27;lastEventCategory&#x27;,\n",
       "                                                                                &#x27;team&#x27;,\n",
       "                                                                                &#x27;shooterLeftRight&#x27;])])),\n",
       "                                             (&#x27;logisticregression&#x27;,\n",
       "                                              LogisticRegression(max_iter=10000,\n",
       "                                                                 random_state=234,\n",
       "                                                                 tol=0.01))]),\n",
       "                   n_jobs=-1,\n",
       "                   param_distributions={&#x27;logisticregression__C&#x27;: &lt;scipy.stats._distn_infrastructure.rv_continuous_frozen object at 0x144e43820&gt;},\n",
       "                   return_train_score=True)</pre><b>In a Jupyter environment, please rerun this cell to show the HTML representation or trust the notebook. <br />On GitHub, the HTML representation is unable to render, please try loading this page with nbviewer.org.</b></div><div class=\"sk-container\" hidden><div class=\"sk-item sk-dashed-wrapped\"><div class=\"sk-label-container\"><div class=\"sk-label sk-toggleable\"><input class=\"sk-toggleable__control sk-hidden--visually\" id=\"sk-estimator-id-1\" type=\"checkbox\" ><label for=\"sk-estimator-id-1\" class=\"sk-toggleable__label sk-toggleable__label-arrow\">RandomizedSearchCV</label><div class=\"sk-toggleable__content\"><pre>RandomizedSearchCV(estimator=Pipeline(steps=[(&#x27;columntransformer&#x27;,\n",
       "                                              ColumnTransformer(transformers=[(&#x27;standardscaler&#x27;,\n",
       "                                                                               StandardScaler(),\n",
       "                                                                               [&#x27;arenaAdjustedShotDistance&#x27;,\n",
       "                                                                                &#x27;distanceFromLastEvent&#x27;,\n",
       "                                                                                &#x27;shotAngle&#x27;,\n",
       "                                                                                &#x27;xCordAdjusted&#x27;,\n",
       "                                                                                &#x27;yCordAdjusted&#x27;,\n",
       "                                                                                &#x27;defendingTeamDefencemenOnIce&#x27;,\n",
       "                                                                                &#x27;defendingTeamForwardsOnIce&#x27;,\n",
       "                                                                                &#x27;defendingTeamGoals&#x27;,\n",
       "                                                                                &#x27;shootingTeamDefencemenOnIce&#x27;,\n",
       "                                                                                &#x27;shooting...\n",
       "                                                                                               (&#x27;onehotencoder&#x27;,\n",
       "                                                                                                OneHotEncoder(handle_unknown=&#x27;ignore&#x27;))]),\n",
       "                                                                               [&#x27;shotType&#x27;,\n",
       "                                                                                &#x27;lastEventCategory&#x27;,\n",
       "                                                                                &#x27;team&#x27;,\n",
       "                                                                                &#x27;shooterLeftRight&#x27;])])),\n",
       "                                             (&#x27;logisticregression&#x27;,\n",
       "                                              LogisticRegression(max_iter=10000,\n",
       "                                                                 random_state=234,\n",
       "                                                                 tol=0.01))]),\n",
       "                   n_jobs=-1,\n",
       "                   param_distributions={&#x27;logisticregression__C&#x27;: &lt;scipy.stats._distn_infrastructure.rv_continuous_frozen object at 0x144e43820&gt;},\n",
       "                   return_train_score=True)</pre></div></div></div><div class=\"sk-parallel\"><div class=\"sk-parallel-item\"><div class=\"sk-item\"><div class=\"sk-label-container\"><div class=\"sk-label sk-toggleable\"><input class=\"sk-toggleable__control sk-hidden--visually\" id=\"sk-estimator-id-2\" type=\"checkbox\" ><label for=\"sk-estimator-id-2\" class=\"sk-toggleable__label sk-toggleable__label-arrow\">estimator: Pipeline</label><div class=\"sk-toggleable__content\"><pre>Pipeline(steps=[(&#x27;columntransformer&#x27;,\n",
       "                 ColumnTransformer(transformers=[(&#x27;standardscaler&#x27;,\n",
       "                                                  StandardScaler(),\n",
       "                                                  [&#x27;arenaAdjustedShotDistance&#x27;,\n",
       "                                                   &#x27;distanceFromLastEvent&#x27;,\n",
       "                                                   &#x27;shotAngle&#x27;, &#x27;xCordAdjusted&#x27;,\n",
       "                                                   &#x27;yCordAdjusted&#x27;,\n",
       "                                                   &#x27;defendingTeamDefencemenOnIce&#x27;,\n",
       "                                                   &#x27;defendingTeamForwardsOnIce&#x27;,\n",
       "                                                   &#x27;defendingTeamGoals&#x27;,\n",
       "                                                   &#x27;shootingTeamDefencemenOnIce&#x27;,\n",
       "                                                   &#x27;shootingTeamForwardsOnIce&#x27;,\n",
       "                                                   &#x27;shootingT...\n",
       "                                                  [&#x27;isPlayoffGame&#x27;,\n",
       "                                                   &#x27;shootingTeamEmptyNet&#x27;,\n",
       "                                                   &#x27;defendingTeamEmptyNet&#x27;]),\n",
       "                                                 (&#x27;pipeline&#x27;,\n",
       "                                                  Pipeline(steps=[(&#x27;simpleimputer&#x27;,\n",
       "                                                                   SimpleImputer(strategy=&#x27;most_frequent&#x27;)),\n",
       "                                                                  (&#x27;onehotencoder&#x27;,\n",
       "                                                                   OneHotEncoder(handle_unknown=&#x27;ignore&#x27;))]),\n",
       "                                                  [&#x27;shotType&#x27;,\n",
       "                                                   &#x27;lastEventCategory&#x27;, &#x27;team&#x27;,\n",
       "                                                   &#x27;shooterLeftRight&#x27;])])),\n",
       "                (&#x27;logisticregression&#x27;,\n",
       "                 LogisticRegression(max_iter=10000, random_state=234,\n",
       "                                    tol=0.01))])</pre></div></div></div><div class=\"sk-serial\"><div class=\"sk-item\"><div class=\"sk-serial\"><div class=\"sk-item sk-dashed-wrapped\"><div class=\"sk-label-container\"><div class=\"sk-label sk-toggleable\"><input class=\"sk-toggleable__control sk-hidden--visually\" id=\"sk-estimator-id-3\" type=\"checkbox\" ><label for=\"sk-estimator-id-3\" class=\"sk-toggleable__label sk-toggleable__label-arrow\">columntransformer: ColumnTransformer</label><div class=\"sk-toggleable__content\"><pre>ColumnTransformer(transformers=[(&#x27;standardscaler&#x27;, StandardScaler(),\n",
       "                                 [&#x27;arenaAdjustedShotDistance&#x27;,\n",
       "                                  &#x27;distanceFromLastEvent&#x27;, &#x27;shotAngle&#x27;,\n",
       "                                  &#x27;xCordAdjusted&#x27;, &#x27;yCordAdjusted&#x27;,\n",
       "                                  &#x27;defendingTeamDefencemenOnIce&#x27;,\n",
       "                                  &#x27;defendingTeamForwardsOnIce&#x27;,\n",
       "                                  &#x27;defendingTeamGoals&#x27;,\n",
       "                                  &#x27;shootingTeamDefencemenOnIce&#x27;,\n",
       "                                  &#x27;shootingTeamForwardsOnIce&#x27;,\n",
       "                                  &#x27;shootingTeamGoals&#x27;]),\n",
       "                                (&#x27;onehotencoder&#x27;,\n",
       "                                 OneHotEncoder(drop=&#x27;if_binary&#x27;,\n",
       "                                               dtype=&lt;class &#x27;int&#x27;&gt;),\n",
       "                                 [&#x27;isPlayoffGame&#x27;, &#x27;shootingTeamEmptyNet&#x27;,\n",
       "                                  &#x27;defendingTeamEmptyNet&#x27;]),\n",
       "                                (&#x27;pipeline&#x27;,\n",
       "                                 Pipeline(steps=[(&#x27;simpleimputer&#x27;,\n",
       "                                                  SimpleImputer(strategy=&#x27;most_frequent&#x27;)),\n",
       "                                                 (&#x27;onehotencoder&#x27;,\n",
       "                                                  OneHotEncoder(handle_unknown=&#x27;ignore&#x27;))]),\n",
       "                                 [&#x27;shotType&#x27;, &#x27;lastEventCategory&#x27;, &#x27;team&#x27;,\n",
       "                                  &#x27;shooterLeftRight&#x27;])])</pre></div></div></div><div class=\"sk-parallel\"><div class=\"sk-parallel-item\"><div class=\"sk-item\"><div class=\"sk-label-container\"><div class=\"sk-label sk-toggleable\"><input class=\"sk-toggleable__control sk-hidden--visually\" id=\"sk-estimator-id-4\" type=\"checkbox\" ><label for=\"sk-estimator-id-4\" class=\"sk-toggleable__label sk-toggleable__label-arrow\">standardscaler</label><div class=\"sk-toggleable__content\"><pre>[&#x27;arenaAdjustedShotDistance&#x27;, &#x27;distanceFromLastEvent&#x27;, &#x27;shotAngle&#x27;, &#x27;xCordAdjusted&#x27;, &#x27;yCordAdjusted&#x27;, &#x27;defendingTeamDefencemenOnIce&#x27;, &#x27;defendingTeamForwardsOnIce&#x27;, &#x27;defendingTeamGoals&#x27;, &#x27;shootingTeamDefencemenOnIce&#x27;, &#x27;shootingTeamForwardsOnIce&#x27;, &#x27;shootingTeamGoals&#x27;]</pre></div></div></div><div class=\"sk-serial\"><div class=\"sk-item\"><div class=\"sk-estimator sk-toggleable\"><input class=\"sk-toggleable__control sk-hidden--visually\" id=\"sk-estimator-id-5\" type=\"checkbox\" ><label for=\"sk-estimator-id-5\" class=\"sk-toggleable__label sk-toggleable__label-arrow\">StandardScaler</label><div class=\"sk-toggleable__content\"><pre>StandardScaler()</pre></div></div></div></div></div></div><div class=\"sk-parallel-item\"><div class=\"sk-item\"><div class=\"sk-label-container\"><div class=\"sk-label sk-toggleable\"><input class=\"sk-toggleable__control sk-hidden--visually\" id=\"sk-estimator-id-6\" type=\"checkbox\" ><label for=\"sk-estimator-id-6\" class=\"sk-toggleable__label sk-toggleable__label-arrow\">onehotencoder</label><div class=\"sk-toggleable__content\"><pre>[&#x27;isPlayoffGame&#x27;, &#x27;shootingTeamEmptyNet&#x27;, &#x27;defendingTeamEmptyNet&#x27;]</pre></div></div></div><div class=\"sk-serial\"><div class=\"sk-item\"><div class=\"sk-estimator sk-toggleable\"><input class=\"sk-toggleable__control sk-hidden--visually\" id=\"sk-estimator-id-7\" type=\"checkbox\" ><label for=\"sk-estimator-id-7\" class=\"sk-toggleable__label sk-toggleable__label-arrow\">OneHotEncoder</label><div class=\"sk-toggleable__content\"><pre>OneHotEncoder(drop=&#x27;if_binary&#x27;, dtype=&lt;class &#x27;int&#x27;&gt;)</pre></div></div></div></div></div></div><div class=\"sk-parallel-item\"><div class=\"sk-item\"><div class=\"sk-label-container\"><div class=\"sk-label sk-toggleable\"><input class=\"sk-toggleable__control sk-hidden--visually\" id=\"sk-estimator-id-8\" type=\"checkbox\" ><label for=\"sk-estimator-id-8\" class=\"sk-toggleable__label sk-toggleable__label-arrow\">pipeline</label><div class=\"sk-toggleable__content\"><pre>[&#x27;shotType&#x27;, &#x27;lastEventCategory&#x27;, &#x27;team&#x27;, &#x27;shooterLeftRight&#x27;]</pre></div></div></div><div class=\"sk-serial\"><div class=\"sk-item\"><div class=\"sk-serial\"><div class=\"sk-item\"><div class=\"sk-estimator sk-toggleable\"><input class=\"sk-toggleable__control sk-hidden--visually\" id=\"sk-estimator-id-9\" type=\"checkbox\" ><label for=\"sk-estimator-id-9\" class=\"sk-toggleable__label sk-toggleable__label-arrow\">SimpleImputer</label><div class=\"sk-toggleable__content\"><pre>SimpleImputer(strategy=&#x27;most_frequent&#x27;)</pre></div></div></div><div class=\"sk-item\"><div class=\"sk-estimator sk-toggleable\"><input class=\"sk-toggleable__control sk-hidden--visually\" id=\"sk-estimator-id-10\" type=\"checkbox\" ><label for=\"sk-estimator-id-10\" class=\"sk-toggleable__label sk-toggleable__label-arrow\">OneHotEncoder</label><div class=\"sk-toggleable__content\"><pre>OneHotEncoder(handle_unknown=&#x27;ignore&#x27;)</pre></div></div></div></div></div></div></div></div></div></div><div class=\"sk-item\"><div class=\"sk-estimator sk-toggleable\"><input class=\"sk-toggleable__control sk-hidden--visually\" id=\"sk-estimator-id-11\" type=\"checkbox\" ><label for=\"sk-estimator-id-11\" class=\"sk-toggleable__label sk-toggleable__label-arrow\">LogisticRegression</label><div class=\"sk-toggleable__content\"><pre>LogisticRegression(max_iter=10000, random_state=234, tol=0.01)</pre></div></div></div></div></div></div></div></div></div></div></div></div>"
      ],
      "text/plain": [
       "RandomizedSearchCV(estimator=Pipeline(steps=[('columntransformer',\n",
       "                                              ColumnTransformer(transformers=[('standardscaler',\n",
       "                                                                               StandardScaler(),\n",
       "                                                                               ['arenaAdjustedShotDistance',\n",
       "                                                                                'distanceFromLastEvent',\n",
       "                                                                                'shotAngle',\n",
       "                                                                                'xCordAdjusted',\n",
       "                                                                                'yCordAdjusted',\n",
       "                                                                                'defendingTeamDefencemenOnIce',\n",
       "                                                                                'defendingTeamForwardsOnIce',\n",
       "                                                                                'defendingTeamGoals',\n",
       "                                                                                'shootingTeamDefencemenOnIce',\n",
       "                                                                                'shooting...\n",
       "                                                                                               ('onehotencoder',\n",
       "                                                                                                OneHotEncoder(handle_unknown='ignore'))]),\n",
       "                                                                               ['shotType',\n",
       "                                                                                'lastEventCategory',\n",
       "                                                                                'team',\n",
       "                                                                                'shooterLeftRight'])])),\n",
       "                                             ('logisticregression',\n",
       "                                              LogisticRegression(max_iter=10000,\n",
       "                                                                 random_state=234,\n",
       "                                                                 tol=0.01))]),\n",
       "                   n_jobs=-1,\n",
       "                   param_distributions={'logisticregression__C': <scipy.stats._distn_infrastructure.rv_continuous_frozen object at 0x144e43820>},\n",
       "                   return_train_score=True)"
      ]
     },
     "execution_count": 24,
     "metadata": {},
     "output_type": "execute_result"
    }
   ],
   "source": [
    "pipe_lr.fit(X_train,y_train)"
   ]
  },
  {
   "cell_type": "code",
   "execution_count": 25,
   "id": "a8235a3c-20c3-4d22-aae3-aa151d24922c",
   "metadata": {},
   "outputs": [
    {
     "data": {
      "text/plain": [
       "0.9299744792952993"
      ]
     },
     "execution_count": 25,
     "metadata": {},
     "output_type": "execute_result"
    }
   ],
   "source": [
    "pipe_lr.score(X_train,y_train)"
   ]
  },
  {
   "cell_type": "code",
   "execution_count": 26,
   "id": "eeb9f62d-8be2-4c76-81e9-273507ede50a",
   "metadata": {},
   "outputs": [
    {
     "data": {
      "text/plain": [
       "0.930222602739726"
      ]
     },
     "execution_count": 26,
     "metadata": {},
     "output_type": "execute_result"
    }
   ],
   "source": [
    "pipe_lr.score(X_test,y_test)"
   ]
  },
  {
   "cell_type": "code",
   "execution_count": 27,
   "id": "87142cb3-bf40-4e72-abd8-eb769d53b190",
   "metadata": {},
   "outputs": [
    {
     "data": {
      "text/plain": [
       "0.22888477956409334"
      ]
     },
     "execution_count": 27,
     "metadata": {},
     "output_type": "execute_result"
    }
   ],
   "source": [
    "log_loss(y_test,pipe_lr.predict_proba(X_test)[:,1])"
   ]
  },
  {
   "cell_type": "code",
   "execution_count": 28,
   "id": "f6a45329-4ed1-4d33-9a56-8bef7afa0ddc",
   "metadata": {},
   "outputs": [
    {
     "data": {
      "text/plain": [
       "0.7445332463330122"
      ]
     },
     "execution_count": 28,
     "metadata": {},
     "output_type": "execute_result"
    }
   ],
   "source": [
    "roc_lr = roc_auc_score(y_test, pipe_lr.predict_proba(X_test)[:, 1])\n",
    "roc_lr"
   ]
  },
  {
   "cell_type": "code",
   "execution_count": 29,
   "id": "59bc255c-aa77-4145-9a29-cac18f097957",
   "metadata": {},
   "outputs": [
    {
     "data": {
      "text/plain": [
       "1.0062044532050156"
      ]
     },
     "execution_count": 29,
     "metadata": {},
     "output_type": "execute_result"
    }
   ],
   "source": [
    "sum(pipe_lr.predict_proba(X_test)[:,1])/sum(y_test)"
   ]
  },
  {
   "cell_type": "code",
   "execution_count": 30,
   "id": "17708c04-5d55-4cd2-8d89-b930b2e8262b",
   "metadata": {},
   "outputs": [
    {
     "data": {
      "text/html": [
       "<style>#sk-container-id-2 {color: black;background-color: white;}#sk-container-id-2 pre{padding: 0;}#sk-container-id-2 div.sk-toggleable {background-color: white;}#sk-container-id-2 label.sk-toggleable__label {cursor: pointer;display: block;width: 100%;margin-bottom: 0;padding: 0.3em;box-sizing: border-box;text-align: center;}#sk-container-id-2 label.sk-toggleable__label-arrow:before {content: \"▸\";float: left;margin-right: 0.25em;color: #696969;}#sk-container-id-2 label.sk-toggleable__label-arrow:hover:before {color: black;}#sk-container-id-2 div.sk-estimator:hover label.sk-toggleable__label-arrow:before {color: black;}#sk-container-id-2 div.sk-toggleable__content {max-height: 0;max-width: 0;overflow: hidden;text-align: left;background-color: #f0f8ff;}#sk-container-id-2 div.sk-toggleable__content pre {margin: 0.2em;color: black;border-radius: 0.25em;background-color: #f0f8ff;}#sk-container-id-2 input.sk-toggleable__control:checked~div.sk-toggleable__content {max-height: 200px;max-width: 100%;overflow: auto;}#sk-container-id-2 input.sk-toggleable__control:checked~label.sk-toggleable__label-arrow:before {content: \"▾\";}#sk-container-id-2 div.sk-estimator input.sk-toggleable__control:checked~label.sk-toggleable__label {background-color: #d4ebff;}#sk-container-id-2 div.sk-label input.sk-toggleable__control:checked~label.sk-toggleable__label {background-color: #d4ebff;}#sk-container-id-2 input.sk-hidden--visually {border: 0;clip: rect(1px 1px 1px 1px);clip: rect(1px, 1px, 1px, 1px);height: 1px;margin: -1px;overflow: hidden;padding: 0;position: absolute;width: 1px;}#sk-container-id-2 div.sk-estimator {font-family: monospace;background-color: #f0f8ff;border: 1px dotted black;border-radius: 0.25em;box-sizing: border-box;margin-bottom: 0.5em;}#sk-container-id-2 div.sk-estimator:hover {background-color: #d4ebff;}#sk-container-id-2 div.sk-parallel-item::after {content: \"\";width: 100%;border-bottom: 1px solid gray;flex-grow: 1;}#sk-container-id-2 div.sk-label:hover label.sk-toggleable__label {background-color: #d4ebff;}#sk-container-id-2 div.sk-serial::before {content: \"\";position: absolute;border-left: 1px solid gray;box-sizing: border-box;top: 0;bottom: 0;left: 50%;z-index: 0;}#sk-container-id-2 div.sk-serial {display: flex;flex-direction: column;align-items: center;background-color: white;padding-right: 0.2em;padding-left: 0.2em;position: relative;}#sk-container-id-2 div.sk-item {position: relative;z-index: 1;}#sk-container-id-2 div.sk-parallel {display: flex;align-items: stretch;justify-content: center;background-color: white;position: relative;}#sk-container-id-2 div.sk-item::before, #sk-container-id-2 div.sk-parallel-item::before {content: \"\";position: absolute;border-left: 1px solid gray;box-sizing: border-box;top: 0;bottom: 0;left: 50%;z-index: -1;}#sk-container-id-2 div.sk-parallel-item {display: flex;flex-direction: column;z-index: 1;position: relative;background-color: white;}#sk-container-id-2 div.sk-parallel-item:first-child::after {align-self: flex-end;width: 50%;}#sk-container-id-2 div.sk-parallel-item:last-child::after {align-self: flex-start;width: 50%;}#sk-container-id-2 div.sk-parallel-item:only-child::after {width: 0;}#sk-container-id-2 div.sk-dashed-wrapped {border: 1px dashed gray;margin: 0 0.4em 0.5em 0.4em;box-sizing: border-box;padding-bottom: 0.4em;background-color: white;}#sk-container-id-2 div.sk-label label {font-family: monospace;font-weight: bold;display: inline-block;line-height: 1.2em;}#sk-container-id-2 div.sk-label-container {text-align: center;}#sk-container-id-2 div.sk-container {/* jupyter's `normalize.less` sets `[hidden] { display: none; }` but bootstrap.min.css set `[hidden] { display: none !important; }` so we also need the `!important` here to be able to override the default hidden behavior on the sphinx rendered scikit-learn.org. See: https://github.com/scikit-learn/scikit-learn/issues/21755 */display: inline-block !important;position: relative;}#sk-container-id-2 div.sk-text-repr-fallback {display: none;}</style><div id=\"sk-container-id-2\" class=\"sk-top-container\"><div class=\"sk-text-repr-fallback\"><pre>Pipeline(steps=[(&#x27;columntransformer&#x27;,\n",
       "                 ColumnTransformer(transformers=[(&#x27;standardscaler&#x27;,\n",
       "                                                  StandardScaler(),\n",
       "                                                  [&#x27;arenaAdjustedShotDistance&#x27;,\n",
       "                                                   &#x27;distanceFromLastEvent&#x27;,\n",
       "                                                   &#x27;shotAngle&#x27;, &#x27;xCordAdjusted&#x27;,\n",
       "                                                   &#x27;yCordAdjusted&#x27;,\n",
       "                                                   &#x27;defendingTeamDefencemenOnIce&#x27;,\n",
       "                                                   &#x27;defendingTeamForwardsOnIce&#x27;,\n",
       "                                                   &#x27;defendingTeamGoals&#x27;,\n",
       "                                                   &#x27;shootingTeamDefencemenOnIce&#x27;,\n",
       "                                                   &#x27;shootingTeamForwardsOnIce&#x27;,\n",
       "                                                   &#x27;shootingT...\n",
       "                                                  [&#x27;isPlayoffGame&#x27;,\n",
       "                                                   &#x27;shootingTeamEmptyNet&#x27;,\n",
       "                                                   &#x27;defendingTeamEmptyNet&#x27;]),\n",
       "                                                 (&#x27;pipeline&#x27;,\n",
       "                                                  Pipeline(steps=[(&#x27;simpleimputer&#x27;,\n",
       "                                                                   SimpleImputer(strategy=&#x27;most_frequent&#x27;)),\n",
       "                                                                  (&#x27;onehotencoder&#x27;,\n",
       "                                                                   OneHotEncoder(handle_unknown=&#x27;ignore&#x27;))]),\n",
       "                                                  [&#x27;shotType&#x27;,\n",
       "                                                   &#x27;lastEventCategory&#x27;, &#x27;team&#x27;,\n",
       "                                                   &#x27;shooterLeftRight&#x27;])])),\n",
       "                (&#x27;logisticregression&#x27;,\n",
       "                 LogisticRegression(max_iter=10000, random_state=234,\n",
       "                                    tol=0.01))])</pre><b>In a Jupyter environment, please rerun this cell to show the HTML representation or trust the notebook. <br />On GitHub, the HTML representation is unable to render, please try loading this page with nbviewer.org.</b></div><div class=\"sk-container\" hidden><div class=\"sk-item sk-dashed-wrapped\"><div class=\"sk-label-container\"><div class=\"sk-label sk-toggleable\"><input class=\"sk-toggleable__control sk-hidden--visually\" id=\"sk-estimator-id-12\" type=\"checkbox\" ><label for=\"sk-estimator-id-12\" class=\"sk-toggleable__label sk-toggleable__label-arrow\">Pipeline</label><div class=\"sk-toggleable__content\"><pre>Pipeline(steps=[(&#x27;columntransformer&#x27;,\n",
       "                 ColumnTransformer(transformers=[(&#x27;standardscaler&#x27;,\n",
       "                                                  StandardScaler(),\n",
       "                                                  [&#x27;arenaAdjustedShotDistance&#x27;,\n",
       "                                                   &#x27;distanceFromLastEvent&#x27;,\n",
       "                                                   &#x27;shotAngle&#x27;, &#x27;xCordAdjusted&#x27;,\n",
       "                                                   &#x27;yCordAdjusted&#x27;,\n",
       "                                                   &#x27;defendingTeamDefencemenOnIce&#x27;,\n",
       "                                                   &#x27;defendingTeamForwardsOnIce&#x27;,\n",
       "                                                   &#x27;defendingTeamGoals&#x27;,\n",
       "                                                   &#x27;shootingTeamDefencemenOnIce&#x27;,\n",
       "                                                   &#x27;shootingTeamForwardsOnIce&#x27;,\n",
       "                                                   &#x27;shootingT...\n",
       "                                                  [&#x27;isPlayoffGame&#x27;,\n",
       "                                                   &#x27;shootingTeamEmptyNet&#x27;,\n",
       "                                                   &#x27;defendingTeamEmptyNet&#x27;]),\n",
       "                                                 (&#x27;pipeline&#x27;,\n",
       "                                                  Pipeline(steps=[(&#x27;simpleimputer&#x27;,\n",
       "                                                                   SimpleImputer(strategy=&#x27;most_frequent&#x27;)),\n",
       "                                                                  (&#x27;onehotencoder&#x27;,\n",
       "                                                                   OneHotEncoder(handle_unknown=&#x27;ignore&#x27;))]),\n",
       "                                                  [&#x27;shotType&#x27;,\n",
       "                                                   &#x27;lastEventCategory&#x27;, &#x27;team&#x27;,\n",
       "                                                   &#x27;shooterLeftRight&#x27;])])),\n",
       "                (&#x27;logisticregression&#x27;,\n",
       "                 LogisticRegression(max_iter=10000, random_state=234,\n",
       "                                    tol=0.01))])</pre></div></div></div><div class=\"sk-serial\"><div class=\"sk-item sk-dashed-wrapped\"><div class=\"sk-label-container\"><div class=\"sk-label sk-toggleable\"><input class=\"sk-toggleable__control sk-hidden--visually\" id=\"sk-estimator-id-13\" type=\"checkbox\" ><label for=\"sk-estimator-id-13\" class=\"sk-toggleable__label sk-toggleable__label-arrow\">columntransformer: ColumnTransformer</label><div class=\"sk-toggleable__content\"><pre>ColumnTransformer(transformers=[(&#x27;standardscaler&#x27;, StandardScaler(),\n",
       "                                 [&#x27;arenaAdjustedShotDistance&#x27;,\n",
       "                                  &#x27;distanceFromLastEvent&#x27;, &#x27;shotAngle&#x27;,\n",
       "                                  &#x27;xCordAdjusted&#x27;, &#x27;yCordAdjusted&#x27;,\n",
       "                                  &#x27;defendingTeamDefencemenOnIce&#x27;,\n",
       "                                  &#x27;defendingTeamForwardsOnIce&#x27;,\n",
       "                                  &#x27;defendingTeamGoals&#x27;,\n",
       "                                  &#x27;shootingTeamDefencemenOnIce&#x27;,\n",
       "                                  &#x27;shootingTeamForwardsOnIce&#x27;,\n",
       "                                  &#x27;shootingTeamGoals&#x27;]),\n",
       "                                (&#x27;onehotencoder&#x27;,\n",
       "                                 OneHotEncoder(drop=&#x27;if_binary&#x27;,\n",
       "                                               dtype=&lt;class &#x27;int&#x27;&gt;),\n",
       "                                 [&#x27;isPlayoffGame&#x27;, &#x27;shootingTeamEmptyNet&#x27;,\n",
       "                                  &#x27;defendingTeamEmptyNet&#x27;]),\n",
       "                                (&#x27;pipeline&#x27;,\n",
       "                                 Pipeline(steps=[(&#x27;simpleimputer&#x27;,\n",
       "                                                  SimpleImputer(strategy=&#x27;most_frequent&#x27;)),\n",
       "                                                 (&#x27;onehotencoder&#x27;,\n",
       "                                                  OneHotEncoder(handle_unknown=&#x27;ignore&#x27;))]),\n",
       "                                 [&#x27;shotType&#x27;, &#x27;lastEventCategory&#x27;, &#x27;team&#x27;,\n",
       "                                  &#x27;shooterLeftRight&#x27;])])</pre></div></div></div><div class=\"sk-parallel\"><div class=\"sk-parallel-item\"><div class=\"sk-item\"><div class=\"sk-label-container\"><div class=\"sk-label sk-toggleable\"><input class=\"sk-toggleable__control sk-hidden--visually\" id=\"sk-estimator-id-14\" type=\"checkbox\" ><label for=\"sk-estimator-id-14\" class=\"sk-toggleable__label sk-toggleable__label-arrow\">standardscaler</label><div class=\"sk-toggleable__content\"><pre>[&#x27;arenaAdjustedShotDistance&#x27;, &#x27;distanceFromLastEvent&#x27;, &#x27;shotAngle&#x27;, &#x27;xCordAdjusted&#x27;, &#x27;yCordAdjusted&#x27;, &#x27;defendingTeamDefencemenOnIce&#x27;, &#x27;defendingTeamForwardsOnIce&#x27;, &#x27;defendingTeamGoals&#x27;, &#x27;shootingTeamDefencemenOnIce&#x27;, &#x27;shootingTeamForwardsOnIce&#x27;, &#x27;shootingTeamGoals&#x27;]</pre></div></div></div><div class=\"sk-serial\"><div class=\"sk-item\"><div class=\"sk-estimator sk-toggleable\"><input class=\"sk-toggleable__control sk-hidden--visually\" id=\"sk-estimator-id-15\" type=\"checkbox\" ><label for=\"sk-estimator-id-15\" class=\"sk-toggleable__label sk-toggleable__label-arrow\">StandardScaler</label><div class=\"sk-toggleable__content\"><pre>StandardScaler()</pre></div></div></div></div></div></div><div class=\"sk-parallel-item\"><div class=\"sk-item\"><div class=\"sk-label-container\"><div class=\"sk-label sk-toggleable\"><input class=\"sk-toggleable__control sk-hidden--visually\" id=\"sk-estimator-id-16\" type=\"checkbox\" ><label for=\"sk-estimator-id-16\" class=\"sk-toggleable__label sk-toggleable__label-arrow\">onehotencoder</label><div class=\"sk-toggleable__content\"><pre>[&#x27;isPlayoffGame&#x27;, &#x27;shootingTeamEmptyNet&#x27;, &#x27;defendingTeamEmptyNet&#x27;]</pre></div></div></div><div class=\"sk-serial\"><div class=\"sk-item\"><div class=\"sk-estimator sk-toggleable\"><input class=\"sk-toggleable__control sk-hidden--visually\" id=\"sk-estimator-id-17\" type=\"checkbox\" ><label for=\"sk-estimator-id-17\" class=\"sk-toggleable__label sk-toggleable__label-arrow\">OneHotEncoder</label><div class=\"sk-toggleable__content\"><pre>OneHotEncoder(drop=&#x27;if_binary&#x27;, dtype=&lt;class &#x27;int&#x27;&gt;)</pre></div></div></div></div></div></div><div class=\"sk-parallel-item\"><div class=\"sk-item\"><div class=\"sk-label-container\"><div class=\"sk-label sk-toggleable\"><input class=\"sk-toggleable__control sk-hidden--visually\" id=\"sk-estimator-id-18\" type=\"checkbox\" ><label for=\"sk-estimator-id-18\" class=\"sk-toggleable__label sk-toggleable__label-arrow\">pipeline</label><div class=\"sk-toggleable__content\"><pre>[&#x27;shotType&#x27;, &#x27;lastEventCategory&#x27;, &#x27;team&#x27;, &#x27;shooterLeftRight&#x27;]</pre></div></div></div><div class=\"sk-serial\"><div class=\"sk-item\"><div class=\"sk-serial\"><div class=\"sk-item\"><div class=\"sk-estimator sk-toggleable\"><input class=\"sk-toggleable__control sk-hidden--visually\" id=\"sk-estimator-id-19\" type=\"checkbox\" ><label for=\"sk-estimator-id-19\" class=\"sk-toggleable__label sk-toggleable__label-arrow\">SimpleImputer</label><div class=\"sk-toggleable__content\"><pre>SimpleImputer(strategy=&#x27;most_frequent&#x27;)</pre></div></div></div><div class=\"sk-item\"><div class=\"sk-estimator sk-toggleable\"><input class=\"sk-toggleable__control sk-hidden--visually\" id=\"sk-estimator-id-20\" type=\"checkbox\" ><label for=\"sk-estimator-id-20\" class=\"sk-toggleable__label sk-toggleable__label-arrow\">OneHotEncoder</label><div class=\"sk-toggleable__content\"><pre>OneHotEncoder(handle_unknown=&#x27;ignore&#x27;)</pre></div></div></div></div></div></div></div></div></div></div><div class=\"sk-item\"><div class=\"sk-estimator sk-toggleable\"><input class=\"sk-toggleable__control sk-hidden--visually\" id=\"sk-estimator-id-21\" type=\"checkbox\" ><label for=\"sk-estimator-id-21\" class=\"sk-toggleable__label sk-toggleable__label-arrow\">LogisticRegression</label><div class=\"sk-toggleable__content\"><pre>LogisticRegression(max_iter=10000, random_state=234, tol=0.01)</pre></div></div></div></div></div></div></div>"
      ],
      "text/plain": [
       "Pipeline(steps=[('columntransformer',\n",
       "                 ColumnTransformer(transformers=[('standardscaler',\n",
       "                                                  StandardScaler(),\n",
       "                                                  ['arenaAdjustedShotDistance',\n",
       "                                                   'distanceFromLastEvent',\n",
       "                                                   'shotAngle', 'xCordAdjusted',\n",
       "                                                   'yCordAdjusted',\n",
       "                                                   'defendingTeamDefencemenOnIce',\n",
       "                                                   'defendingTeamForwardsOnIce',\n",
       "                                                   'defendingTeamGoals',\n",
       "                                                   'shootingTeamDefencemenOnIce',\n",
       "                                                   'shootingTeamForwardsOnIce',\n",
       "                                                   'shootingT...\n",
       "                                                  ['isPlayoffGame',\n",
       "                                                   'shootingTeamEmptyNet',\n",
       "                                                   'defendingTeamEmptyNet']),\n",
       "                                                 ('pipeline',\n",
       "                                                  Pipeline(steps=[('simpleimputer',\n",
       "                                                                   SimpleImputer(strategy='most_frequent')),\n",
       "                                                                  ('onehotencoder',\n",
       "                                                                   OneHotEncoder(handle_unknown='ignore'))]),\n",
       "                                                  ['shotType',\n",
       "                                                   'lastEventCategory', 'team',\n",
       "                                                   'shooterLeftRight'])])),\n",
       "                ('logisticregression',\n",
       "                 LogisticRegression(max_iter=10000, random_state=234,\n",
       "                                    tol=0.01))])"
      ]
     },
     "execution_count": 30,
     "metadata": {},
     "output_type": "execute_result"
    }
   ],
   "source": [
    "pipe_lr_unopt.fit(X_train, y_train)"
   ]
  },
  {
   "cell_type": "code",
   "execution_count": 31,
   "id": "3a1e32ec-35b8-4c04-ad83-e5d6c2cd0a02",
   "metadata": {},
   "outputs": [],
   "source": [
    "ohe_features = pipe_lr_unopt.named_steps[\"columntransformer\"].named_transformers_[\"pipeline\"].get_feature_names_out(categorical_features).tolist()\n",
    "feature_names = (numeric_features + binary_features + ohe_features)"
   ]
  },
  {
   "cell_type": "code",
   "execution_count": 32,
   "id": "e32ed2ef-d2ca-4457-9935-b41163e15f29",
   "metadata": {},
   "outputs": [],
   "source": [
    "data = {\n",
    "    \"coefficient\": pipe_lr_unopt.named_steps[\"logisticregression\"].coef_.flatten().tolist(),\n",
    "    \"magnitude\": np.absolute(\n",
    "        pipe_lr_unopt.named_steps[\"logisticregression\"].coef_.flatten().tolist()\n",
    "    ),\n",
    "}\n",
    "coef_df = pd.DataFrame(data, index=feature_names).sort_values(\n",
    "    \"magnitude\", ascending=False\n",
    ")"
   ]
  },
  {
   "cell_type": "code",
   "execution_count": 33,
   "id": "a3d12f1f-bfee-4d83-a9b9-de73396f153c",
   "metadata": {},
   "outputs": [
    {
     "data": {
      "text/html": [
       "<div>\n",
       "<style scoped>\n",
       "    .dataframe tbody tr th:only-of-type {\n",
       "        vertical-align: middle;\n",
       "    }\n",
       "\n",
       "    .dataframe tbody tr th {\n",
       "        vertical-align: top;\n",
       "    }\n",
       "\n",
       "    .dataframe thead th {\n",
       "        text-align: right;\n",
       "    }\n",
       "</style>\n",
       "<table border=\"1\" class=\"dataframe\">\n",
       "  <thead>\n",
       "    <tr style=\"text-align: right;\">\n",
       "      <th></th>\n",
       "      <th>index</th>\n",
       "      <th>coefficient</th>\n",
       "      <th>magnitude</th>\n",
       "    </tr>\n",
       "  </thead>\n",
       "  <tbody>\n",
       "    <tr>\n",
       "      <th>0</th>\n",
       "      <td>defendingTeamEmptyNet</td>\n",
       "      <td>4.533791</td>\n",
       "      <td>4.533791</td>\n",
       "    </tr>\n",
       "    <tr>\n",
       "      <th>1</th>\n",
       "      <td>arenaAdjustedShotDistance</td>\n",
       "      <td>-1.713734</td>\n",
       "      <td>1.713734</td>\n",
       "    </tr>\n",
       "    <tr>\n",
       "      <th>2</th>\n",
       "      <td>shotType_WRAP</td>\n",
       "      <td>-1.257580</td>\n",
       "      <td>1.257580</td>\n",
       "    </tr>\n",
       "    <tr>\n",
       "      <th>3</th>\n",
       "      <td>lastEventCategory_STOP</td>\n",
       "      <td>1.003426</td>\n",
       "      <td>1.003426</td>\n",
       "    </tr>\n",
       "    <tr>\n",
       "      <th>4</th>\n",
       "      <td>xCordAdjusted</td>\n",
       "      <td>-0.830595</td>\n",
       "      <td>0.830595</td>\n",
       "    </tr>\n",
       "    <tr>\n",
       "      <th>5</th>\n",
       "      <td>shotType_SNAP</td>\n",
       "      <td>0.700144</td>\n",
       "      <td>0.700144</td>\n",
       "    </tr>\n",
       "    <tr>\n",
       "      <th>6</th>\n",
       "      <td>lastEventCategory_CHL</td>\n",
       "      <td>0.694106</td>\n",
       "      <td>0.694106</td>\n",
       "    </tr>\n",
       "    <tr>\n",
       "      <th>7</th>\n",
       "      <td>shotType_SLAP</td>\n",
       "      <td>0.648134</td>\n",
       "      <td>0.648134</td>\n",
       "    </tr>\n",
       "    <tr>\n",
       "      <th>8</th>\n",
       "      <td>lastEventCategory_HIT</td>\n",
       "      <td>-0.440702</td>\n",
       "      <td>0.440702</td>\n",
       "    </tr>\n",
       "    <tr>\n",
       "      <th>9</th>\n",
       "      <td>lastEventCategory_FAC</td>\n",
       "      <td>-0.418171</td>\n",
       "      <td>0.418171</td>\n",
       "    </tr>\n",
       "  </tbody>\n",
       "</table>\n",
       "</div>"
      ],
      "text/plain": [
       "                       index  coefficient  magnitude\n",
       "0      defendingTeamEmptyNet     4.533791   4.533791\n",
       "1  arenaAdjustedShotDistance    -1.713734   1.713734\n",
       "2              shotType_WRAP    -1.257580   1.257580\n",
       "3     lastEventCategory_STOP     1.003426   1.003426\n",
       "4              xCordAdjusted    -0.830595   0.830595\n",
       "5              shotType_SNAP     0.700144   0.700144\n",
       "6      lastEventCategory_CHL     0.694106   0.694106\n",
       "7              shotType_SLAP     0.648134   0.648134\n",
       "8      lastEventCategory_HIT    -0.440702   0.440702\n",
       "9      lastEventCategory_FAC    -0.418171   0.418171"
      ]
     },
     "execution_count": 33,
     "metadata": {},
     "output_type": "execute_result"
    }
   ],
   "source": [
    "coef_df.reset_index().head(10)"
   ]
  },
  {
   "cell_type": "code",
   "execution_count": 34,
   "id": "807a593e-88a8-440e-b932-5900dffb5f53",
   "metadata": {},
   "outputs": [
    {
     "data": {
      "text/html": [
       "\n",
       "<div id=\"altair-viz-b81b89a447e0429d8359a7abd7b69460\"></div>\n",
       "<script type=\"text/javascript\">\n",
       "  var VEGA_DEBUG = (typeof VEGA_DEBUG == \"undefined\") ? {} : VEGA_DEBUG;\n",
       "  (function(spec, embedOpt){\n",
       "    let outputDiv = document.currentScript.previousElementSibling;\n",
       "    if (outputDiv.id !== \"altair-viz-b81b89a447e0429d8359a7abd7b69460\") {\n",
       "      outputDiv = document.getElementById(\"altair-viz-b81b89a447e0429d8359a7abd7b69460\");\n",
       "    }\n",
       "    const paths = {\n",
       "      \"vega\": \"https://cdn.jsdelivr.net/npm//vega@5?noext\",\n",
       "      \"vega-lib\": \"https://cdn.jsdelivr.net/npm//vega-lib?noext\",\n",
       "      \"vega-lite\": \"https://cdn.jsdelivr.net/npm//vega-lite@4.17.0?noext\",\n",
       "      \"vega-embed\": \"https://cdn.jsdelivr.net/npm//vega-embed@6?noext\",\n",
       "    };\n",
       "\n",
       "    function maybeLoadScript(lib, version) {\n",
       "      var key = `${lib.replace(\"-\", \"\")}_version`;\n",
       "      return (VEGA_DEBUG[key] == version) ?\n",
       "        Promise.resolve(paths[lib]) :\n",
       "        new Promise(function(resolve, reject) {\n",
       "          var s = document.createElement('script');\n",
       "          document.getElementsByTagName(\"head\")[0].appendChild(s);\n",
       "          s.async = true;\n",
       "          s.onload = () => {\n",
       "            VEGA_DEBUG[key] = version;\n",
       "            return resolve(paths[lib]);\n",
       "          };\n",
       "          s.onerror = () => reject(`Error loading script: ${paths[lib]}`);\n",
       "          s.src = paths[lib];\n",
       "        });\n",
       "    }\n",
       "\n",
       "    function showError(err) {\n",
       "      outputDiv.innerHTML = `<div class=\"error\" style=\"color:red;\">${err}</div>`;\n",
       "      throw err;\n",
       "    }\n",
       "\n",
       "    function displayChart(vegaEmbed) {\n",
       "      vegaEmbed(outputDiv, spec, embedOpt)\n",
       "        .catch(err => showError(`Javascript Error: ${err.message}<br>This usually means there's a typo in your chart specification. See the javascript console for the full traceback.`));\n",
       "    }\n",
       "\n",
       "    if(typeof define === \"function\" && define.amd) {\n",
       "      requirejs.config({paths});\n",
       "      require([\"vega-embed\"], displayChart, err => showError(`Error loading script: ${err.message}`));\n",
       "    } else {\n",
       "      maybeLoadScript(\"vega\", \"5\")\n",
       "        .then(() => maybeLoadScript(\"vega-lite\", \"4.17.0\"))\n",
       "        .then(() => maybeLoadScript(\"vega-embed\", \"6\"))\n",
       "        .catch(showError)\n",
       "        .then(() => displayChart(vegaEmbed));\n",
       "    }\n",
       "  })({\"config\": {\"view\": {\"continuousWidth\": 400, \"continuousHeight\": 300}}, \"data\": {\"url\": \"http://localhost:51622/fa7cefc18cb68ee1b0dc27c0a5f12dba.json\"}, \"mark\": \"bar\", \"encoding\": {\"color\": {\"scale\": {\"scheme\": \"dark2\"}}, \"x\": {\"field\": \"coefficient\", \"type\": \"quantitative\"}, \"y\": {\"field\": \"index\", \"sort\": \"-x\", \"type\": \"nominal\"}}, \"title\": \"Feature Importance from Logistic Regression\", \"$schema\": \"https://vega.github.io/schema/vega-lite/v4.17.0.json\"}, {\"mode\": \"vega-lite\"});\n",
       "</script>"
      ],
      "text/plain": [
       "alt.Chart(...)"
      ]
     },
     "execution_count": 34,
     "metadata": {},
     "output_type": "execute_result"
    }
   ],
   "source": [
    "alt.Chart(coef_df.reset_index().head(15), title = 'Feature Importance from Logistic Regression').mark_bar().encode(\n",
    "    x = 'coefficient',\n",
    "    y = alt.Y('index', sort = '-x'),\n",
    "    color = alt.Color(scale = alt.Scale(scheme='dark2')))"
   ]
  },
  {
   "cell_type": "code",
   "execution_count": 35,
   "id": "263f5627-9966-4200-87f4-d1f451b7709e",
   "metadata": {},
   "outputs": [
    {
     "data": {
      "text/plain": [
       "0.7454252047371936"
      ]
     },
     "execution_count": 35,
     "metadata": {},
     "output_type": "execute_result"
    }
   ],
   "source": [
    "roc_lr_unopt = roc_auc_score(y_test, pipe_lr_unopt.predict_proba(X_test)[:, 1])\n",
    "roc_lr_unopt"
   ]
  },
  {
   "cell_type": "code",
   "execution_count": 36,
   "id": "7fcda817-d8a4-4a5e-967b-cf30171754b4",
   "metadata": {},
   "outputs": [
    {
     "data": {
      "text/plain": [
       "0.22869406791331887"
      ]
     },
     "execution_count": 36,
     "metadata": {},
     "output_type": "execute_result"
    }
   ],
   "source": [
    "log_loss(y_test,pipe_lr_unopt.predict_proba(X_test)[:,1])"
   ]
  },
  {
   "cell_type": "code",
   "execution_count": 37,
   "id": "d8155de5-7411-408d-95f6-86f4e1588bfa",
   "metadata": {},
   "outputs": [
    {
     "data": {
      "image/png": "[encoded data removed]",
      "text/plain": [
       "<Figure size 640x480 with 1 Axes>"
      ]
     },
     "metadata": {},
     "output_type": "display_data"
    }
   ],
   "source": [
    "fpr, tpr, thresholds = roc_curve(y_test, pipe_lr.predict_proba(X_test)[:, 1])\n",
    "plt.plot(fpr, tpr, label=\"ROC Curve\")\n",
    "plt.xlabel(\"FPR\")\n",
    "plt.ylabel(\"TPR (recall)\")\n",
    "\n",
    "default_threshold = np.argmin(np.abs(thresholds - 0.5))\n",
    "\n",
    "plt.plot(\n",
    "    fpr[default_threshold],\n",
    "    tpr[default_threshold],\n",
    "    \"or\",\n",
    "    markersize=10,\n",
    "    label=\"threshold 0.5\",\n",
    ")\n",
    "plt.legend(loc=\"best\");"
   ]
  },
  {
   "cell_type": "code",
   "execution_count": 38,
   "id": "5c97d883-d385-466c-8571-2bdbcfe65349",
   "metadata": {},
   "outputs": [],
   "source": [
    "pipe_sgd = make_pipeline(preprocessor, SGDClassifier(loss = 'log_loss', class_weight = 'balanced'))"
   ]
  },
  {
   "cell_type": "code",
   "execution_count": 39,
   "id": "afeb8111-dfbe-4a11-b80e-739cba7c6ea1",
   "metadata": {},
   "outputs": [
    {
     "data": {
      "text/html": [
       "<style>#sk-container-id-3 {color: black;background-color: white;}#sk-container-id-3 pre{padding: 0;}#sk-container-id-3 div.sk-toggleable {background-color: white;}#sk-container-id-3 label.sk-toggleable__label {cursor: pointer;display: block;width: 100%;margin-bottom: 0;padding: 0.3em;box-sizing: border-box;text-align: center;}#sk-container-id-3 label.sk-toggleable__label-arrow:before {content: \"▸\";float: left;margin-right: 0.25em;color: #696969;}#sk-container-id-3 label.sk-toggleable__label-arrow:hover:before {color: black;}#sk-container-id-3 div.sk-estimator:hover label.sk-toggleable__label-arrow:before {color: black;}#sk-container-id-3 div.sk-toggleable__content {max-height: 0;max-width: 0;overflow: hidden;text-align: left;background-color: #f0f8ff;}#sk-container-id-3 div.sk-toggleable__content pre {margin: 0.2em;color: black;border-radius: 0.25em;background-color: #f0f8ff;}#sk-container-id-3 input.sk-toggleable__control:checked~div.sk-toggleable__content {max-height: 200px;max-width: 100%;overflow: auto;}#sk-container-id-3 input.sk-toggleable__control:checked~label.sk-toggleable__label-arrow:before {content: \"▾\";}#sk-container-id-3 div.sk-estimator input.sk-toggleable__control:checked~label.sk-toggleable__label {background-color: #d4ebff;}#sk-container-id-3 div.sk-label input.sk-toggleable__control:checked~label.sk-toggleable__label {background-color: #d4ebff;}#sk-container-id-3 input.sk-hidden--visually {border: 0;clip: rect(1px 1px 1px 1px);clip: rect(1px, 1px, 1px, 1px);height: 1px;margin: -1px;overflow: hidden;padding: 0;position: absolute;width: 1px;}#sk-container-id-3 div.sk-estimator {font-family: monospace;background-color: #f0f8ff;border: 1px dotted black;border-radius: 0.25em;box-sizing: border-box;margin-bottom: 0.5em;}#sk-container-id-3 div.sk-estimator:hover {background-color: #d4ebff;}#sk-container-id-3 div.sk-parallel-item::after {content: \"\";width: 100%;border-bottom: 1px solid gray;flex-grow: 1;}#sk-container-id-3 div.sk-label:hover label.sk-toggleable__label {background-color: #d4ebff;}#sk-container-id-3 div.sk-serial::before {content: \"\";position: absolute;border-left: 1px solid gray;box-sizing: border-box;top: 0;bottom: 0;left: 50%;z-index: 0;}#sk-container-id-3 div.sk-serial {display: flex;flex-direction: column;align-items: center;background-color: white;padding-right: 0.2em;padding-left: 0.2em;position: relative;}#sk-container-id-3 div.sk-item {position: relative;z-index: 1;}#sk-container-id-3 div.sk-parallel {display: flex;align-items: stretch;justify-content: center;background-color: white;position: relative;}#sk-container-id-3 div.sk-item::before, #sk-container-id-3 div.sk-parallel-item::before {content: \"\";position: absolute;border-left: 1px solid gray;box-sizing: border-box;top: 0;bottom: 0;left: 50%;z-index: -1;}#sk-container-id-3 div.sk-parallel-item {display: flex;flex-direction: column;z-index: 1;position: relative;background-color: white;}#sk-container-id-3 div.sk-parallel-item:first-child::after {align-self: flex-end;width: 50%;}#sk-container-id-3 div.sk-parallel-item:last-child::after {align-self: flex-start;width: 50%;}#sk-container-id-3 div.sk-parallel-item:only-child::after {width: 0;}#sk-container-id-3 div.sk-dashed-wrapped {border: 1px dashed gray;margin: 0 0.4em 0.5em 0.4em;box-sizing: border-box;padding-bottom: 0.4em;background-color: white;}#sk-container-id-3 div.sk-label label {font-family: monospace;font-weight: bold;display: inline-block;line-height: 1.2em;}#sk-container-id-3 div.sk-label-container {text-align: center;}#sk-container-id-3 div.sk-container {/* jupyter's `normalize.less` sets `[hidden] { display: none; }` but bootstrap.min.css set `[hidden] { display: none !important; }` so we also need the `!important` here to be able to override the default hidden behavior on the sphinx rendered scikit-learn.org. See: https://github.com/scikit-learn/scikit-learn/issues/21755 */display: inline-block !important;position: relative;}#sk-container-id-3 div.sk-text-repr-fallback {display: none;}</style><div id=\"sk-container-id-3\" class=\"sk-top-container\"><div class=\"sk-text-repr-fallback\"><pre>Pipeline(steps=[(&#x27;columntransformer&#x27;,\n",
       "                 ColumnTransformer(transformers=[(&#x27;standardscaler&#x27;,\n",
       "                                                  StandardScaler(),\n",
       "                                                  [&#x27;arenaAdjustedShotDistance&#x27;,\n",
       "                                                   &#x27;distanceFromLastEvent&#x27;,\n",
       "                                                   &#x27;shotAngle&#x27;, &#x27;xCordAdjusted&#x27;,\n",
       "                                                   &#x27;yCordAdjusted&#x27;,\n",
       "                                                   &#x27;defendingTeamDefencemenOnIce&#x27;,\n",
       "                                                   &#x27;defendingTeamForwardsOnIce&#x27;,\n",
       "                                                   &#x27;defendingTeamGoals&#x27;,\n",
       "                                                   &#x27;shootingTeamDefencemenOnIce&#x27;,\n",
       "                                                   &#x27;shootingTeamForwardsOnIce&#x27;,\n",
       "                                                   &#x27;shootingT...\n",
       "                                                                dtype=&lt;class &#x27;int&#x27;&gt;),\n",
       "                                                  [&#x27;isPlayoffGame&#x27;,\n",
       "                                                   &#x27;shootingTeamEmptyNet&#x27;,\n",
       "                                                   &#x27;defendingTeamEmptyNet&#x27;]),\n",
       "                                                 (&#x27;pipeline&#x27;,\n",
       "                                                  Pipeline(steps=[(&#x27;simpleimputer&#x27;,\n",
       "                                                                   SimpleImputer(strategy=&#x27;most_frequent&#x27;)),\n",
       "                                                                  (&#x27;onehotencoder&#x27;,\n",
       "                                                                   OneHotEncoder(handle_unknown=&#x27;ignore&#x27;))]),\n",
       "                                                  [&#x27;shotType&#x27;,\n",
       "                                                   &#x27;lastEventCategory&#x27;, &#x27;team&#x27;,\n",
       "                                                   &#x27;shooterLeftRight&#x27;])])),\n",
       "                (&#x27;sgdclassifier&#x27;,\n",
       "                 SGDClassifier(class_weight=&#x27;balanced&#x27;, loss=&#x27;log_loss&#x27;))])</pre><b>In a Jupyter environment, please rerun this cell to show the HTML representation or trust the notebook. <br />On GitHub, the HTML representation is unable to render, please try loading this page with nbviewer.org.</b></div><div class=\"sk-container\" hidden><div class=\"sk-item sk-dashed-wrapped\"><div class=\"sk-label-container\"><div class=\"sk-label sk-toggleable\"><input class=\"sk-toggleable__control sk-hidden--visually\" id=\"sk-estimator-id-22\" type=\"checkbox\" ><label for=\"sk-estimator-id-22\" class=\"sk-toggleable__label sk-toggleable__label-arrow\">Pipeline</label><div class=\"sk-toggleable__content\"><pre>Pipeline(steps=[(&#x27;columntransformer&#x27;,\n",
       "                 ColumnTransformer(transformers=[(&#x27;standardscaler&#x27;,\n",
       "                                                  StandardScaler(),\n",
       "                                                  [&#x27;arenaAdjustedShotDistance&#x27;,\n",
       "                                                   &#x27;distanceFromLastEvent&#x27;,\n",
       "                                                   &#x27;shotAngle&#x27;, &#x27;xCordAdjusted&#x27;,\n",
       "                                                   &#x27;yCordAdjusted&#x27;,\n",
       "                                                   &#x27;defendingTeamDefencemenOnIce&#x27;,\n",
       "                                                   &#x27;defendingTeamForwardsOnIce&#x27;,\n",
       "                                                   &#x27;defendingTeamGoals&#x27;,\n",
       "                                                   &#x27;shootingTeamDefencemenOnIce&#x27;,\n",
       "                                                   &#x27;shootingTeamForwardsOnIce&#x27;,\n",
       "                                                   &#x27;shootingT...\n",
       "                                                                dtype=&lt;class &#x27;int&#x27;&gt;),\n",
       "                                                  [&#x27;isPlayoffGame&#x27;,\n",
       "                                                   &#x27;shootingTeamEmptyNet&#x27;,\n",
       "                                                   &#x27;defendingTeamEmptyNet&#x27;]),\n",
       "                                                 (&#x27;pipeline&#x27;,\n",
       "                                                  Pipeline(steps=[(&#x27;simpleimputer&#x27;,\n",
       "                                                                   SimpleImputer(strategy=&#x27;most_frequent&#x27;)),\n",
       "                                                                  (&#x27;onehotencoder&#x27;,\n",
       "                                                                   OneHotEncoder(handle_unknown=&#x27;ignore&#x27;))]),\n",
       "                                                  [&#x27;shotType&#x27;,\n",
       "                                                   &#x27;lastEventCategory&#x27;, &#x27;team&#x27;,\n",
       "                                                   &#x27;shooterLeftRight&#x27;])])),\n",
       "                (&#x27;sgdclassifier&#x27;,\n",
       "                 SGDClassifier(class_weight=&#x27;balanced&#x27;, loss=&#x27;log_loss&#x27;))])</pre></div></div></div><div class=\"sk-serial\"><div class=\"sk-item sk-dashed-wrapped\"><div class=\"sk-label-container\"><div class=\"sk-label sk-toggleable\"><input class=\"sk-toggleable__control sk-hidden--visually\" id=\"sk-estimator-id-23\" type=\"checkbox\" ><label for=\"sk-estimator-id-23\" class=\"sk-toggleable__label sk-toggleable__label-arrow\">columntransformer: ColumnTransformer</label><div class=\"sk-toggleable__content\"><pre>ColumnTransformer(transformers=[(&#x27;standardscaler&#x27;, StandardScaler(),\n",
       "                                 [&#x27;arenaAdjustedShotDistance&#x27;,\n",
       "                                  &#x27;distanceFromLastEvent&#x27;, &#x27;shotAngle&#x27;,\n",
       "                                  &#x27;xCordAdjusted&#x27;, &#x27;yCordAdjusted&#x27;,\n",
       "                                  &#x27;defendingTeamDefencemenOnIce&#x27;,\n",
       "                                  &#x27;defendingTeamForwardsOnIce&#x27;,\n",
       "                                  &#x27;defendingTeamGoals&#x27;,\n",
       "                                  &#x27;shootingTeamDefencemenOnIce&#x27;,\n",
       "                                  &#x27;shootingTeamForwardsOnIce&#x27;,\n",
       "                                  &#x27;shootingTeamGoals&#x27;]),\n",
       "                                (&#x27;onehotencoder&#x27;,\n",
       "                                 OneHotEncoder(drop=&#x27;if_binary&#x27;,\n",
       "                                               dtype=&lt;class &#x27;int&#x27;&gt;),\n",
       "                                 [&#x27;isPlayoffGame&#x27;, &#x27;shootingTeamEmptyNet&#x27;,\n",
       "                                  &#x27;defendingTeamEmptyNet&#x27;]),\n",
       "                                (&#x27;pipeline&#x27;,\n",
       "                                 Pipeline(steps=[(&#x27;simpleimputer&#x27;,\n",
       "                                                  SimpleImputer(strategy=&#x27;most_frequent&#x27;)),\n",
       "                                                 (&#x27;onehotencoder&#x27;,\n",
       "                                                  OneHotEncoder(handle_unknown=&#x27;ignore&#x27;))]),\n",
       "                                 [&#x27;shotType&#x27;, &#x27;lastEventCategory&#x27;, &#x27;team&#x27;,\n",
       "                                  &#x27;shooterLeftRight&#x27;])])</pre></div></div></div><div class=\"sk-parallel\"><div class=\"sk-parallel-item\"><div class=\"sk-item\"><div class=\"sk-label-container\"><div class=\"sk-label sk-toggleable\"><input class=\"sk-toggleable__control sk-hidden--visually\" id=\"sk-estimator-id-24\" type=\"checkbox\" ><label for=\"sk-estimator-id-24\" class=\"sk-toggleable__label sk-toggleable__label-arrow\">standardscaler</label><div class=\"sk-toggleable__content\"><pre>[&#x27;arenaAdjustedShotDistance&#x27;, &#x27;distanceFromLastEvent&#x27;, &#x27;shotAngle&#x27;, &#x27;xCordAdjusted&#x27;, &#x27;yCordAdjusted&#x27;, &#x27;defendingTeamDefencemenOnIce&#x27;, &#x27;defendingTeamForwardsOnIce&#x27;, &#x27;defendingTeamGoals&#x27;, &#x27;shootingTeamDefencemenOnIce&#x27;, &#x27;shootingTeamForwardsOnIce&#x27;, &#x27;shootingTeamGoals&#x27;]</pre></div></div></div><div class=\"sk-serial\"><div class=\"sk-item\"><div class=\"sk-estimator sk-toggleable\"><input class=\"sk-toggleable__control sk-hidden--visually\" id=\"sk-estimator-id-25\" type=\"checkbox\" ><label for=\"sk-estimator-id-25\" class=\"sk-toggleable__label sk-toggleable__label-arrow\">StandardScaler</label><div class=\"sk-toggleable__content\"><pre>StandardScaler()</pre></div></div></div></div></div></div><div class=\"sk-parallel-item\"><div class=\"sk-item\"><div class=\"sk-label-container\"><div class=\"sk-label sk-toggleable\"><input class=\"sk-toggleable__control sk-hidden--visually\" id=\"sk-estimator-id-26\" type=\"checkbox\" ><label for=\"sk-estimator-id-26\" class=\"sk-toggleable__label sk-toggleable__label-arrow\">onehotencoder</label><div class=\"sk-toggleable__content\"><pre>[&#x27;isPlayoffGame&#x27;, &#x27;shootingTeamEmptyNet&#x27;, &#x27;defendingTeamEmptyNet&#x27;]</pre></div></div></div><div class=\"sk-serial\"><div class=\"sk-item\"><div class=\"sk-estimator sk-toggleable\"><input class=\"sk-toggleable__control sk-hidden--visually\" id=\"sk-estimator-id-27\" type=\"checkbox\" ><label for=\"sk-estimator-id-27\" class=\"sk-toggleable__label sk-toggleable__label-arrow\">OneHotEncoder</label><div class=\"sk-toggleable__content\"><pre>OneHotEncoder(drop=&#x27;if_binary&#x27;, dtype=&lt;class &#x27;int&#x27;&gt;)</pre></div></div></div></div></div></div><div class=\"sk-parallel-item\"><div class=\"sk-item\"><div class=\"sk-label-container\"><div class=\"sk-label sk-toggleable\"><input class=\"sk-toggleable__control sk-hidden--visually\" id=\"sk-estimator-id-28\" type=\"checkbox\" ><label for=\"sk-estimator-id-28\" class=\"sk-toggleable__label sk-toggleable__label-arrow\">pipeline</label><div class=\"sk-toggleable__content\"><pre>[&#x27;shotType&#x27;, &#x27;lastEventCategory&#x27;, &#x27;team&#x27;, &#x27;shooterLeftRight&#x27;]</pre></div></div></div><div class=\"sk-serial\"><div class=\"sk-item\"><div class=\"sk-serial\"><div class=\"sk-item\"><div class=\"sk-estimator sk-toggleable\"><input class=\"sk-toggleable__control sk-hidden--visually\" id=\"sk-estimator-id-29\" type=\"checkbox\" ><label for=\"sk-estimator-id-29\" class=\"sk-toggleable__label sk-toggleable__label-arrow\">SimpleImputer</label><div class=\"sk-toggleable__content\"><pre>SimpleImputer(strategy=&#x27;most_frequent&#x27;)</pre></div></div></div><div class=\"sk-item\"><div class=\"sk-estimator sk-toggleable\"><input class=\"sk-toggleable__control sk-hidden--visually\" id=\"sk-estimator-id-30\" type=\"checkbox\" ><label for=\"sk-estimator-id-30\" class=\"sk-toggleable__label sk-toggleable__label-arrow\">OneHotEncoder</label><div class=\"sk-toggleable__content\"><pre>OneHotEncoder(handle_unknown=&#x27;ignore&#x27;)</pre></div></div></div></div></div></div></div></div></div></div><div class=\"sk-item\"><div class=\"sk-estimator sk-toggleable\"><input class=\"sk-toggleable__control sk-hidden--visually\" id=\"sk-estimator-id-31\" type=\"checkbox\" ><label for=\"sk-estimator-id-31\" class=\"sk-toggleable__label sk-toggleable__label-arrow\">SGDClassifier</label><div class=\"sk-toggleable__content\"><pre>SGDClassifier(class_weight=&#x27;balanced&#x27;, loss=&#x27;log_loss&#x27;)</pre></div></div></div></div></div></div></div>"
      ],
      "text/plain": [
       "Pipeline(steps=[('columntransformer',\n",
       "                 ColumnTransformer(transformers=[('standardscaler',\n",
       "                                                  StandardScaler(),\n",
       "                                                  ['arenaAdjustedShotDistance',\n",
       "                                                   'distanceFromLastEvent',\n",
       "                                                   'shotAngle', 'xCordAdjusted',\n",
       "                                                   'yCordAdjusted',\n",
       "                                                   'defendingTeamDefencemenOnIce',\n",
       "                                                   'defendingTeamForwardsOnIce',\n",
       "                                                   'defendingTeamGoals',\n",
       "                                                   'shootingTeamDefencemenOnIce',\n",
       "                                                   'shootingTeamForwardsOnIce',\n",
       "                                                   'shootingT...\n",
       "                                                                dtype=<class 'int'>),\n",
       "                                                  ['isPlayoffGame',\n",
       "                                                   'shootingTeamEmptyNet',\n",
       "                                                   'defendingTeamEmptyNet']),\n",
       "                                                 ('pipeline',\n",
       "                                                  Pipeline(steps=[('simpleimputer',\n",
       "                                                                   SimpleImputer(strategy='most_frequent')),\n",
       "                                                                  ('onehotencoder',\n",
       "                                                                   OneHotEncoder(handle_unknown='ignore'))]),\n",
       "                                                  ['shotType',\n",
       "                                                   'lastEventCategory', 'team',\n",
       "                                                   'shooterLeftRight'])])),\n",
       "                ('sgdclassifier',\n",
       "                 SGDClassifier(class_weight='balanced', loss='log_loss'))])"
      ]
     },
     "execution_count": 39,
     "metadata": {},
     "output_type": "execute_result"
    }
   ],
   "source": [
    "pipe_sgd.fit(X_train,y_train)"
   ]
  },
  {
   "cell_type": "code",
   "execution_count": 40,
   "id": "dcf0b24c-44c2-47e4-a969-5c6f9eb21ac3",
   "metadata": {},
   "outputs": [
    {
     "data": {
      "text/plain": [
       "array([[0.66168942, 0.33831058],\n",
       "       [0.61739841, 0.38260159],\n",
       "       [0.54271723, 0.45728277],\n",
       "       ...,\n",
       "       [0.40183124, 0.59816876],\n",
       "       [0.7789513 , 0.2210487 ],\n",
       "       [0.43265046, 0.56734954]])"
      ]
     },
     "execution_count": 40,
     "metadata": {},
     "output_type": "execute_result"
    }
   ],
   "source": [
    "pipe_sgd.predict_proba(X_test)"
   ]
  },
  {
   "cell_type": "code",
   "execution_count": 41,
   "id": "7d89458f-0af8-4c40-b464-beadfd5190f6",
   "metadata": {},
   "outputs": [],
   "source": [
    "param_grid = {\n",
    "    'gradientboostingclassifier__min_samples_split': [100, 250, 500],\n",
    "    'gradientboostingclassifier__max_depth': [3, 4, 5]\n",
    "}"
   ]
  },
  {
   "cell_type": "code",
   "execution_count": 42,
   "id": "136a0a6a-871b-46e7-82ca-a2114dc6bc4d",
   "metadata": {},
   "outputs": [],
   "source": [
    "pip_gbc = make_pipeline(preprocessor, GradientBoostingClassifier(random_state=123))"
   ]
  },
  {
   "cell_type": "code",
   "execution_count": 43,
   "id": "e4a4bda2-c79d-4c17-9a0d-6fa0e8912a67",
   "metadata": {},
   "outputs": [
    {
     "data": {
      "text/html": [
       "<style>#sk-container-id-4 {color: black;background-color: white;}#sk-container-id-4 pre{padding: 0;}#sk-container-id-4 div.sk-toggleable {background-color: white;}#sk-container-id-4 label.sk-toggleable__label {cursor: pointer;display: block;width: 100%;margin-bottom: 0;padding: 0.3em;box-sizing: border-box;text-align: center;}#sk-container-id-4 label.sk-toggleable__label-arrow:before {content: \"▸\";float: left;margin-right: 0.25em;color: #696969;}#sk-container-id-4 label.sk-toggleable__label-arrow:hover:before {color: black;}#sk-container-id-4 div.sk-estimator:hover label.sk-toggleable__label-arrow:before {color: black;}#sk-container-id-4 div.sk-toggleable__content {max-height: 0;max-width: 0;overflow: hidden;text-align: left;background-color: #f0f8ff;}#sk-container-id-4 div.sk-toggleable__content pre {margin: 0.2em;color: black;border-radius: 0.25em;background-color: #f0f8ff;}#sk-container-id-4 input.sk-toggleable__control:checked~div.sk-toggleable__content {max-height: 200px;max-width: 100%;overflow: auto;}#sk-container-id-4 input.sk-toggleable__control:checked~label.sk-toggleable__label-arrow:before {content: \"▾\";}#sk-container-id-4 div.sk-estimator input.sk-toggleable__control:checked~label.sk-toggleable__label {background-color: #d4ebff;}#sk-container-id-4 div.sk-label input.sk-toggleable__control:checked~label.sk-toggleable__label {background-color: #d4ebff;}#sk-container-id-4 input.sk-hidden--visually {border: 0;clip: rect(1px 1px 1px 1px);clip: rect(1px, 1px, 1px, 1px);height: 1px;margin: -1px;overflow: hidden;padding: 0;position: absolute;width: 1px;}#sk-container-id-4 div.sk-estimator {font-family: monospace;background-color: #f0f8ff;border: 1px dotted black;border-radius: 0.25em;box-sizing: border-box;margin-bottom: 0.5em;}#sk-container-id-4 div.sk-estimator:hover {background-color: #d4ebff;}#sk-container-id-4 div.sk-parallel-item::after {content: \"\";width: 100%;border-bottom: 1px solid gray;flex-grow: 1;}#sk-container-id-4 div.sk-label:hover label.sk-toggleable__label {background-color: #d4ebff;}#sk-container-id-4 div.sk-serial::before {content: \"\";position: absolute;border-left: 1px solid gray;box-sizing: border-box;top: 0;bottom: 0;left: 50%;z-index: 0;}#sk-container-id-4 div.sk-serial {display: flex;flex-direction: column;align-items: center;background-color: white;padding-right: 0.2em;padding-left: 0.2em;position: relative;}#sk-container-id-4 div.sk-item {position: relative;z-index: 1;}#sk-container-id-4 div.sk-parallel {display: flex;align-items: stretch;justify-content: center;background-color: white;position: relative;}#sk-container-id-4 div.sk-item::before, #sk-container-id-4 div.sk-parallel-item::before {content: \"\";position: absolute;border-left: 1px solid gray;box-sizing: border-box;top: 0;bottom: 0;left: 50%;z-index: -1;}#sk-container-id-4 div.sk-parallel-item {display: flex;flex-direction: column;z-index: 1;position: relative;background-color: white;}#sk-container-id-4 div.sk-parallel-item:first-child::after {align-self: flex-end;width: 50%;}#sk-container-id-4 div.sk-parallel-item:last-child::after {align-self: flex-start;width: 50%;}#sk-container-id-4 div.sk-parallel-item:only-child::after {width: 0;}#sk-container-id-4 div.sk-dashed-wrapped {border: 1px dashed gray;margin: 0 0.4em 0.5em 0.4em;box-sizing: border-box;padding-bottom: 0.4em;background-color: white;}#sk-container-id-4 div.sk-label label {font-family: monospace;font-weight: bold;display: inline-block;line-height: 1.2em;}#sk-container-id-4 div.sk-label-container {text-align: center;}#sk-container-id-4 div.sk-container {/* jupyter's `normalize.less` sets `[hidden] { display: none; }` but bootstrap.min.css set `[hidden] { display: none !important; }` so we also need the `!important` here to be able to override the default hidden behavior on the sphinx rendered scikit-learn.org. See: https://github.com/scikit-learn/scikit-learn/issues/21755 */display: inline-block !important;position: relative;}#sk-container-id-4 div.sk-text-repr-fallback {display: none;}</style><div id=\"sk-container-id-4\" class=\"sk-top-container\"><div class=\"sk-text-repr-fallback\"><pre>GridSearchCV(cv=10,\n",
       "             estimator=Pipeline(steps=[(&#x27;columntransformer&#x27;,\n",
       "                                        ColumnTransformer(transformers=[(&#x27;standardscaler&#x27;,\n",
       "                                                                         StandardScaler(),\n",
       "                                                                         [&#x27;arenaAdjustedShotDistance&#x27;,\n",
       "                                                                          &#x27;distanceFromLastEvent&#x27;,\n",
       "                                                                          &#x27;shotAngle&#x27;,\n",
       "                                                                          &#x27;xCordAdjusted&#x27;,\n",
       "                                                                          &#x27;yCordAdjusted&#x27;,\n",
       "                                                                          &#x27;defendingTeamDefencemenOnIce&#x27;,\n",
       "                                                                          &#x27;defendingTeamForwardsOnIce&#x27;,\n",
       "                                                                          &#x27;defendingTeamGoals&#x27;,\n",
       "                                                                          &#x27;shootingTeamDefencemenOnIce&#x27;,\n",
       "                                                                          &#x27;shooting...\n",
       "                                                                                          SimpleImputer(strategy=&#x27;most_frequent&#x27;)),\n",
       "                                                                                         (&#x27;onehotencoder&#x27;,\n",
       "                                                                                          OneHotEncoder(handle_unknown=&#x27;ignore&#x27;))]),\n",
       "                                                                         [&#x27;shotType&#x27;,\n",
       "                                                                          &#x27;lastEventCategory&#x27;,\n",
       "                                                                          &#x27;team&#x27;,\n",
       "                                                                          &#x27;shooterLeftRight&#x27;])])),\n",
       "                                       (&#x27;gradientboostingclassifier&#x27;,\n",
       "                                        GradientBoostingClassifier(random_state=123))]),\n",
       "             param_grid={&#x27;gradientboostingclassifier__max_depth&#x27;: [3, 4, 5],\n",
       "                         &#x27;gradientboostingclassifier__min_samples_split&#x27;: [100,\n",
       "                                                                           250,\n",
       "                                                                           500]})</pre><b>In a Jupyter environment, please rerun this cell to show the HTML representation or trust the notebook. <br />On GitHub, the HTML representation is unable to render, please try loading this page with nbviewer.org.</b></div><div class=\"sk-container\" hidden><div class=\"sk-item sk-dashed-wrapped\"><div class=\"sk-label-container\"><div class=\"sk-label sk-toggleable\"><input class=\"sk-toggleable__control sk-hidden--visually\" id=\"sk-estimator-id-32\" type=\"checkbox\" ><label for=\"sk-estimator-id-32\" class=\"sk-toggleable__label sk-toggleable__label-arrow\">GridSearchCV</label><div class=\"sk-toggleable__content\"><pre>GridSearchCV(cv=10,\n",
       "             estimator=Pipeline(steps=[(&#x27;columntransformer&#x27;,\n",
       "                                        ColumnTransformer(transformers=[(&#x27;standardscaler&#x27;,\n",
       "                                                                         StandardScaler(),\n",
       "                                                                         [&#x27;arenaAdjustedShotDistance&#x27;,\n",
       "                                                                          &#x27;distanceFromLastEvent&#x27;,\n",
       "                                                                          &#x27;shotAngle&#x27;,\n",
       "                                                                          &#x27;xCordAdjusted&#x27;,\n",
       "                                                                          &#x27;yCordAdjusted&#x27;,\n",
       "                                                                          &#x27;defendingTeamDefencemenOnIce&#x27;,\n",
       "                                                                          &#x27;defendingTeamForwardsOnIce&#x27;,\n",
       "                                                                          &#x27;defendingTeamGoals&#x27;,\n",
       "                                                                          &#x27;shootingTeamDefencemenOnIce&#x27;,\n",
       "                                                                          &#x27;shooting...\n",
       "                                                                                          SimpleImputer(strategy=&#x27;most_frequent&#x27;)),\n",
       "                                                                                         (&#x27;onehotencoder&#x27;,\n",
       "                                                                                          OneHotEncoder(handle_unknown=&#x27;ignore&#x27;))]),\n",
       "                                                                         [&#x27;shotType&#x27;,\n",
       "                                                                          &#x27;lastEventCategory&#x27;,\n",
       "                                                                          &#x27;team&#x27;,\n",
       "                                                                          &#x27;shooterLeftRight&#x27;])])),\n",
       "                                       (&#x27;gradientboostingclassifier&#x27;,\n",
       "                                        GradientBoostingClassifier(random_state=123))]),\n",
       "             param_grid={&#x27;gradientboostingclassifier__max_depth&#x27;: [3, 4, 5],\n",
       "                         &#x27;gradientboostingclassifier__min_samples_split&#x27;: [100,\n",
       "                                                                           250,\n",
       "                                                                           500]})</pre></div></div></div><div class=\"sk-parallel\"><div class=\"sk-parallel-item\"><div class=\"sk-item\"><div class=\"sk-label-container\"><div class=\"sk-label sk-toggleable\"><input class=\"sk-toggleable__control sk-hidden--visually\" id=\"sk-estimator-id-33\" type=\"checkbox\" ><label for=\"sk-estimator-id-33\" class=\"sk-toggleable__label sk-toggleable__label-arrow\">estimator: Pipeline</label><div class=\"sk-toggleable__content\"><pre>Pipeline(steps=[(&#x27;columntransformer&#x27;,\n",
       "                 ColumnTransformer(transformers=[(&#x27;standardscaler&#x27;,\n",
       "                                                  StandardScaler(),\n",
       "                                                  [&#x27;arenaAdjustedShotDistance&#x27;,\n",
       "                                                   &#x27;distanceFromLastEvent&#x27;,\n",
       "                                                   &#x27;shotAngle&#x27;, &#x27;xCordAdjusted&#x27;,\n",
       "                                                   &#x27;yCordAdjusted&#x27;,\n",
       "                                                   &#x27;defendingTeamDefencemenOnIce&#x27;,\n",
       "                                                   &#x27;defendingTeamForwardsOnIce&#x27;,\n",
       "                                                   &#x27;defendingTeamGoals&#x27;,\n",
       "                                                   &#x27;shootingTeamDefencemenOnIce&#x27;,\n",
       "                                                   &#x27;shootingTeamForwardsOnIce&#x27;,\n",
       "                                                   &#x27;shootingT...\n",
       "                                                  [&#x27;isPlayoffGame&#x27;,\n",
       "                                                   &#x27;shootingTeamEmptyNet&#x27;,\n",
       "                                                   &#x27;defendingTeamEmptyNet&#x27;]),\n",
       "                                                 (&#x27;pipeline&#x27;,\n",
       "                                                  Pipeline(steps=[(&#x27;simpleimputer&#x27;,\n",
       "                                                                   SimpleImputer(strategy=&#x27;most_frequent&#x27;)),\n",
       "                                                                  (&#x27;onehotencoder&#x27;,\n",
       "                                                                   OneHotEncoder(handle_unknown=&#x27;ignore&#x27;))]),\n",
       "                                                  [&#x27;shotType&#x27;,\n",
       "                                                   &#x27;lastEventCategory&#x27;, &#x27;team&#x27;,\n",
       "                                                   &#x27;shooterLeftRight&#x27;])])),\n",
       "                (&#x27;gradientboostingclassifier&#x27;,\n",
       "                 GradientBoostingClassifier(random_state=123))])</pre></div></div></div><div class=\"sk-serial\"><div class=\"sk-item\"><div class=\"sk-serial\"><div class=\"sk-item sk-dashed-wrapped\"><div class=\"sk-label-container\"><div class=\"sk-label sk-toggleable\"><input class=\"sk-toggleable__control sk-hidden--visually\" id=\"sk-estimator-id-34\" type=\"checkbox\" ><label for=\"sk-estimator-id-34\" class=\"sk-toggleable__label sk-toggleable__label-arrow\">columntransformer: ColumnTransformer</label><div class=\"sk-toggleable__content\"><pre>ColumnTransformer(transformers=[(&#x27;standardscaler&#x27;, StandardScaler(),\n",
       "                                 [&#x27;arenaAdjustedShotDistance&#x27;,\n",
       "                                  &#x27;distanceFromLastEvent&#x27;, &#x27;shotAngle&#x27;,\n",
       "                                  &#x27;xCordAdjusted&#x27;, &#x27;yCordAdjusted&#x27;,\n",
       "                                  &#x27;defendingTeamDefencemenOnIce&#x27;,\n",
       "                                  &#x27;defendingTeamForwardsOnIce&#x27;,\n",
       "                                  &#x27;defendingTeamGoals&#x27;,\n",
       "                                  &#x27;shootingTeamDefencemenOnIce&#x27;,\n",
       "                                  &#x27;shootingTeamForwardsOnIce&#x27;,\n",
       "                                  &#x27;shootingTeamGoals&#x27;]),\n",
       "                                (&#x27;onehotencoder&#x27;,\n",
       "                                 OneHotEncoder(drop=&#x27;if_binary&#x27;,\n",
       "                                               dtype=&lt;class &#x27;int&#x27;&gt;),\n",
       "                                 [&#x27;isPlayoffGame&#x27;, &#x27;shootingTeamEmptyNet&#x27;,\n",
       "                                  &#x27;defendingTeamEmptyNet&#x27;]),\n",
       "                                (&#x27;pipeline&#x27;,\n",
       "                                 Pipeline(steps=[(&#x27;simpleimputer&#x27;,\n",
       "                                                  SimpleImputer(strategy=&#x27;most_frequent&#x27;)),\n",
       "                                                 (&#x27;onehotencoder&#x27;,\n",
       "                                                  OneHotEncoder(handle_unknown=&#x27;ignore&#x27;))]),\n",
       "                                 [&#x27;shotType&#x27;, &#x27;lastEventCategory&#x27;, &#x27;team&#x27;,\n",
       "                                  &#x27;shooterLeftRight&#x27;])])</pre></div></div></div><div class=\"sk-parallel\"><div class=\"sk-parallel-item\"><div class=\"sk-item\"><div class=\"sk-label-container\"><div class=\"sk-label sk-toggleable\"><input class=\"sk-toggleable__control sk-hidden--visually\" id=\"sk-estimator-id-35\" type=\"checkbox\" ><label for=\"sk-estimator-id-35\" class=\"sk-toggleable__label sk-toggleable__label-arrow\">standardscaler</label><div class=\"sk-toggleable__content\"><pre>[&#x27;arenaAdjustedShotDistance&#x27;, &#x27;distanceFromLastEvent&#x27;, &#x27;shotAngle&#x27;, &#x27;xCordAdjusted&#x27;, &#x27;yCordAdjusted&#x27;, &#x27;defendingTeamDefencemenOnIce&#x27;, &#x27;defendingTeamForwardsOnIce&#x27;, &#x27;defendingTeamGoals&#x27;, &#x27;shootingTeamDefencemenOnIce&#x27;, &#x27;shootingTeamForwardsOnIce&#x27;, &#x27;shootingTeamGoals&#x27;]</pre></div></div></div><div class=\"sk-serial\"><div class=\"sk-item\"><div class=\"sk-estimator sk-toggleable\"><input class=\"sk-toggleable__control sk-hidden--visually\" id=\"sk-estimator-id-36\" type=\"checkbox\" ><label for=\"sk-estimator-id-36\" class=\"sk-toggleable__label sk-toggleable__label-arrow\">StandardScaler</label><div class=\"sk-toggleable__content\"><pre>StandardScaler()</pre></div></div></div></div></div></div><div class=\"sk-parallel-item\"><div class=\"sk-item\"><div class=\"sk-label-container\"><div class=\"sk-label sk-toggleable\"><input class=\"sk-toggleable__control sk-hidden--visually\" id=\"sk-estimator-id-37\" type=\"checkbox\" ><label for=\"sk-estimator-id-37\" class=\"sk-toggleable__label sk-toggleable__label-arrow\">onehotencoder</label><div class=\"sk-toggleable__content\"><pre>[&#x27;isPlayoffGame&#x27;, &#x27;shootingTeamEmptyNet&#x27;, &#x27;defendingTeamEmptyNet&#x27;]</pre></div></div></div><div class=\"sk-serial\"><div class=\"sk-item\"><div class=\"sk-estimator sk-toggleable\"><input class=\"sk-toggleable__control sk-hidden--visually\" id=\"sk-estimator-id-38\" type=\"checkbox\" ><label for=\"sk-estimator-id-38\" class=\"sk-toggleable__label sk-toggleable__label-arrow\">OneHotEncoder</label><div class=\"sk-toggleable__content\"><pre>OneHotEncoder(drop=&#x27;if_binary&#x27;, dtype=&lt;class &#x27;int&#x27;&gt;)</pre></div></div></div></div></div></div><div class=\"sk-parallel-item\"><div class=\"sk-item\"><div class=\"sk-label-container\"><div class=\"sk-label sk-toggleable\"><input class=\"sk-toggleable__control sk-hidden--visually\" id=\"sk-estimator-id-39\" type=\"checkbox\" ><label for=\"sk-estimator-id-39\" class=\"sk-toggleable__label sk-toggleable__label-arrow\">pipeline</label><div class=\"sk-toggleable__content\"><pre>[&#x27;shotType&#x27;, &#x27;lastEventCategory&#x27;, &#x27;team&#x27;, &#x27;shooterLeftRight&#x27;]</pre></div></div></div><div class=\"sk-serial\"><div class=\"sk-item\"><div class=\"sk-serial\"><div class=\"sk-item\"><div class=\"sk-estimator sk-toggleable\"><input class=\"sk-toggleable__control sk-hidden--visually\" id=\"sk-estimator-id-40\" type=\"checkbox\" ><label for=\"sk-estimator-id-40\" class=\"sk-toggleable__label sk-toggleable__label-arrow\">SimpleImputer</label><div class=\"sk-toggleable__content\"><pre>SimpleImputer(strategy=&#x27;most_frequent&#x27;)</pre></div></div></div><div class=\"sk-item\"><div class=\"sk-estimator sk-toggleable\"><input class=\"sk-toggleable__control sk-hidden--visually\" id=\"sk-estimator-id-41\" type=\"checkbox\" ><label for=\"sk-estimator-id-41\" class=\"sk-toggleable__label sk-toggleable__label-arrow\">OneHotEncoder</label><div class=\"sk-toggleable__content\"><pre>OneHotEncoder(handle_unknown=&#x27;ignore&#x27;)</pre></div></div></div></div></div></div></div></div></div></div><div class=\"sk-item\"><div class=\"sk-estimator sk-toggleable\"><input class=\"sk-toggleable__control sk-hidden--visually\" id=\"sk-estimator-id-42\" type=\"checkbox\" ><label for=\"sk-estimator-id-42\" class=\"sk-toggleable__label sk-toggleable__label-arrow\">GradientBoostingClassifier</label><div class=\"sk-toggleable__content\"><pre>GradientBoostingClassifier(random_state=123)</pre></div></div></div></div></div></div></div></div></div></div></div></div>"
      ],
      "text/plain": [
       "GridSearchCV(cv=10,\n",
       "             estimator=Pipeline(steps=[('columntransformer',\n",
       "                                        ColumnTransformer(transformers=[('standardscaler',\n",
       "                                                                         StandardScaler(),\n",
       "                                                                         ['arenaAdjustedShotDistance',\n",
       "                                                                          'distanceFromLastEvent',\n",
       "                                                                          'shotAngle',\n",
       "                                                                          'xCordAdjusted',\n",
       "                                                                          'yCordAdjusted',\n",
       "                                                                          'defendingTeamDefencemenOnIce',\n",
       "                                                                          'defendingTeamForwardsOnIce',\n",
       "                                                                          'defendingTeamGoals',\n",
       "                                                                          'shootingTeamDefencemenOnIce',\n",
       "                                                                          'shooting...\n",
       "                                                                                          SimpleImputer(strategy='most_frequent')),\n",
       "                                                                                         ('onehotencoder',\n",
       "                                                                                          OneHotEncoder(handle_unknown='ignore'))]),\n",
       "                                                                         ['shotType',\n",
       "                                                                          'lastEventCategory',\n",
       "                                                                          'team',\n",
       "                                                                          'shooterLeftRight'])])),\n",
       "                                       ('gradientboostingclassifier',\n",
       "                                        GradientBoostingClassifier(random_state=123))]),\n",
       "             param_grid={'gradientboostingclassifier__max_depth': [3, 4, 5],\n",
       "                         'gradientboostingclassifier__min_samples_split': [100,\n",
       "                                                                           250,\n",
       "                                                                           500]})"
      ]
     },
     "execution_count": 43,
     "metadata": {},
     "output_type": "execute_result"
    }
   ],
   "source": [
    "gbc_opt = GridSearchCV(pip_gbc, param_grid=param_grid, cv=10)\n",
    "gbc_opt"
   ]
  },
  {
   "cell_type": "code",
   "execution_count": 44,
   "id": "8b11733d-0bbc-4050-9781-8b9a64bdf448",
   "metadata": {},
   "outputs": [
    {
     "data": {
      "text/html": [
       "<style>#sk-container-id-5 {color: black;background-color: white;}#sk-container-id-5 pre{padding: 0;}#sk-container-id-5 div.sk-toggleable {background-color: white;}#sk-container-id-5 label.sk-toggleable__label {cursor: pointer;display: block;width: 100%;margin-bottom: 0;padding: 0.3em;box-sizing: border-box;text-align: center;}#sk-container-id-5 label.sk-toggleable__label-arrow:before {content: \"▸\";float: left;margin-right: 0.25em;color: #696969;}#sk-container-id-5 label.sk-toggleable__label-arrow:hover:before {color: black;}#sk-container-id-5 div.sk-estimator:hover label.sk-toggleable__label-arrow:before {color: black;}#sk-container-id-5 div.sk-toggleable__content {max-height: 0;max-width: 0;overflow: hidden;text-align: left;background-color: #f0f8ff;}#sk-container-id-5 div.sk-toggleable__content pre {margin: 0.2em;color: black;border-radius: 0.25em;background-color: #f0f8ff;}#sk-container-id-5 input.sk-toggleable__control:checked~div.sk-toggleable__content {max-height: 200px;max-width: 100%;overflow: auto;}#sk-container-id-5 input.sk-toggleable__control:checked~label.sk-toggleable__label-arrow:before {content: \"▾\";}#sk-container-id-5 div.sk-estimator input.sk-toggleable__control:checked~label.sk-toggleable__label {background-color: #d4ebff;}#sk-container-id-5 div.sk-label input.sk-toggleable__control:checked~label.sk-toggleable__label {background-color: #d4ebff;}#sk-container-id-5 input.sk-hidden--visually {border: 0;clip: rect(1px 1px 1px 1px);clip: rect(1px, 1px, 1px, 1px);height: 1px;margin: -1px;overflow: hidden;padding: 0;position: absolute;width: 1px;}#sk-container-id-5 div.sk-estimator {font-family: monospace;background-color: #f0f8ff;border: 1px dotted black;border-radius: 0.25em;box-sizing: border-box;margin-bottom: 0.5em;}#sk-container-id-5 div.sk-estimator:hover {background-color: #d4ebff;}#sk-container-id-5 div.sk-parallel-item::after {content: \"\";width: 100%;border-bottom: 1px solid gray;flex-grow: 1;}#sk-container-id-5 div.sk-label:hover label.sk-toggleable__label {background-color: #d4ebff;}#sk-container-id-5 div.sk-serial::before {content: \"\";position: absolute;border-left: 1px solid gray;box-sizing: border-box;top: 0;bottom: 0;left: 50%;z-index: 0;}#sk-container-id-5 div.sk-serial {display: flex;flex-direction: column;align-items: center;background-color: white;padding-right: 0.2em;padding-left: 0.2em;position: relative;}#sk-container-id-5 div.sk-item {position: relative;z-index: 1;}#sk-container-id-5 div.sk-parallel {display: flex;align-items: stretch;justify-content: center;background-color: white;position: relative;}#sk-container-id-5 div.sk-item::before, #sk-container-id-5 div.sk-parallel-item::before {content: \"\";position: absolute;border-left: 1px solid gray;box-sizing: border-box;top: 0;bottom: 0;left: 50%;z-index: -1;}#sk-container-id-5 div.sk-parallel-item {display: flex;flex-direction: column;z-index: 1;position: relative;background-color: white;}#sk-container-id-5 div.sk-parallel-item:first-child::after {align-self: flex-end;width: 50%;}#sk-container-id-5 div.sk-parallel-item:last-child::after {align-self: flex-start;width: 50%;}#sk-container-id-5 div.sk-parallel-item:only-child::after {width: 0;}#sk-container-id-5 div.sk-dashed-wrapped {border: 1px dashed gray;margin: 0 0.4em 0.5em 0.4em;box-sizing: border-box;padding-bottom: 0.4em;background-color: white;}#sk-container-id-5 div.sk-label label {font-family: monospace;font-weight: bold;display: inline-block;line-height: 1.2em;}#sk-container-id-5 div.sk-label-container {text-align: center;}#sk-container-id-5 div.sk-container {/* jupyter's `normalize.less` sets `[hidden] { display: none; }` but bootstrap.min.css set `[hidden] { display: none !important; }` so we also need the `!important` here to be able to override the default hidden behavior on the sphinx rendered scikit-learn.org. See: https://github.com/scikit-learn/scikit-learn/issues/21755 */display: inline-block !important;position: relative;}#sk-container-id-5 div.sk-text-repr-fallback {display: none;}</style><div id=\"sk-container-id-5\" class=\"sk-top-container\"><div class=\"sk-text-repr-fallback\"><pre>Pipeline(steps=[(&#x27;columntransformer&#x27;,\n",
       "                 ColumnTransformer(transformers=[(&#x27;standardscaler&#x27;,\n",
       "                                                  StandardScaler(),\n",
       "                                                  [&#x27;arenaAdjustedShotDistance&#x27;,\n",
       "                                                   &#x27;distanceFromLastEvent&#x27;,\n",
       "                                                   &#x27;shotAngle&#x27;, &#x27;xCordAdjusted&#x27;,\n",
       "                                                   &#x27;yCordAdjusted&#x27;,\n",
       "                                                   &#x27;defendingTeamDefencemenOnIce&#x27;,\n",
       "                                                   &#x27;defendingTeamForwardsOnIce&#x27;,\n",
       "                                                   &#x27;defendingTeamGoals&#x27;,\n",
       "                                                   &#x27;shootingTeamDefencemenOnIce&#x27;,\n",
       "                                                   &#x27;shootingTeamForwardsOnIce&#x27;,\n",
       "                                                   &#x27;shootingT...\n",
       "                                                  [&#x27;isPlayoffGame&#x27;,\n",
       "                                                   &#x27;shootingTeamEmptyNet&#x27;,\n",
       "                                                   &#x27;defendingTeamEmptyNet&#x27;]),\n",
       "                                                 (&#x27;pipeline&#x27;,\n",
       "                                                  Pipeline(steps=[(&#x27;simpleimputer&#x27;,\n",
       "                                                                   SimpleImputer(strategy=&#x27;most_frequent&#x27;)),\n",
       "                                                                  (&#x27;onehotencoder&#x27;,\n",
       "                                                                   OneHotEncoder(handle_unknown=&#x27;ignore&#x27;))]),\n",
       "                                                  [&#x27;shotType&#x27;,\n",
       "                                                   &#x27;lastEventCategory&#x27;, &#x27;team&#x27;,\n",
       "                                                   &#x27;shooterLeftRight&#x27;])])),\n",
       "                (&#x27;gradientboostingclassifier&#x27;,\n",
       "                 GradientBoostingClassifier(random_state=123))])</pre><b>In a Jupyter environment, please rerun this cell to show the HTML representation or trust the notebook. <br />On GitHub, the HTML representation is unable to render, please try loading this page with nbviewer.org.</b></div><div class=\"sk-container\" hidden><div class=\"sk-item sk-dashed-wrapped\"><div class=\"sk-label-container\"><div class=\"sk-label sk-toggleable\"><input class=\"sk-toggleable__control sk-hidden--visually\" id=\"sk-estimator-id-43\" type=\"checkbox\" ><label for=\"sk-estimator-id-43\" class=\"sk-toggleable__label sk-toggleable__label-arrow\">Pipeline</label><div class=\"sk-toggleable__content\"><pre>Pipeline(steps=[(&#x27;columntransformer&#x27;,\n",
       "                 ColumnTransformer(transformers=[(&#x27;standardscaler&#x27;,\n",
       "                                                  StandardScaler(),\n",
       "                                                  [&#x27;arenaAdjustedShotDistance&#x27;,\n",
       "                                                   &#x27;distanceFromLastEvent&#x27;,\n",
       "                                                   &#x27;shotAngle&#x27;, &#x27;xCordAdjusted&#x27;,\n",
       "                                                   &#x27;yCordAdjusted&#x27;,\n",
       "                                                   &#x27;defendingTeamDefencemenOnIce&#x27;,\n",
       "                                                   &#x27;defendingTeamForwardsOnIce&#x27;,\n",
       "                                                   &#x27;defendingTeamGoals&#x27;,\n",
       "                                                   &#x27;shootingTeamDefencemenOnIce&#x27;,\n",
       "                                                   &#x27;shootingTeamForwardsOnIce&#x27;,\n",
       "                                                   &#x27;shootingT...\n",
       "                                                  [&#x27;isPlayoffGame&#x27;,\n",
       "                                                   &#x27;shootingTeamEmptyNet&#x27;,\n",
       "                                                   &#x27;defendingTeamEmptyNet&#x27;]),\n",
       "                                                 (&#x27;pipeline&#x27;,\n",
       "                                                  Pipeline(steps=[(&#x27;simpleimputer&#x27;,\n",
       "                                                                   SimpleImputer(strategy=&#x27;most_frequent&#x27;)),\n",
       "                                                                  (&#x27;onehotencoder&#x27;,\n",
       "                                                                   OneHotEncoder(handle_unknown=&#x27;ignore&#x27;))]),\n",
       "                                                  [&#x27;shotType&#x27;,\n",
       "                                                   &#x27;lastEventCategory&#x27;, &#x27;team&#x27;,\n",
       "                                                   &#x27;shooterLeftRight&#x27;])])),\n",
       "                (&#x27;gradientboostingclassifier&#x27;,\n",
       "                 GradientBoostingClassifier(random_state=123))])</pre></div></div></div><div class=\"sk-serial\"><div class=\"sk-item sk-dashed-wrapped\"><div class=\"sk-label-container\"><div class=\"sk-label sk-toggleable\"><input class=\"sk-toggleable__control sk-hidden--visually\" id=\"sk-estimator-id-44\" type=\"checkbox\" ><label for=\"sk-estimator-id-44\" class=\"sk-toggleable__label sk-toggleable__label-arrow\">columntransformer: ColumnTransformer</label><div class=\"sk-toggleable__content\"><pre>ColumnTransformer(transformers=[(&#x27;standardscaler&#x27;, StandardScaler(),\n",
       "                                 [&#x27;arenaAdjustedShotDistance&#x27;,\n",
       "                                  &#x27;distanceFromLastEvent&#x27;, &#x27;shotAngle&#x27;,\n",
       "                                  &#x27;xCordAdjusted&#x27;, &#x27;yCordAdjusted&#x27;,\n",
       "                                  &#x27;defendingTeamDefencemenOnIce&#x27;,\n",
       "                                  &#x27;defendingTeamForwardsOnIce&#x27;,\n",
       "                                  &#x27;defendingTeamGoals&#x27;,\n",
       "                                  &#x27;shootingTeamDefencemenOnIce&#x27;,\n",
       "                                  &#x27;shootingTeamForwardsOnIce&#x27;,\n",
       "                                  &#x27;shootingTeamGoals&#x27;]),\n",
       "                                (&#x27;onehotencoder&#x27;,\n",
       "                                 OneHotEncoder(drop=&#x27;if_binary&#x27;,\n",
       "                                               dtype=&lt;class &#x27;int&#x27;&gt;),\n",
       "                                 [&#x27;isPlayoffGame&#x27;, &#x27;shootingTeamEmptyNet&#x27;,\n",
       "                                  &#x27;defendingTeamEmptyNet&#x27;]),\n",
       "                                (&#x27;pipeline&#x27;,\n",
       "                                 Pipeline(steps=[(&#x27;simpleimputer&#x27;,\n",
       "                                                  SimpleImputer(strategy=&#x27;most_frequent&#x27;)),\n",
       "                                                 (&#x27;onehotencoder&#x27;,\n",
       "                                                  OneHotEncoder(handle_unknown=&#x27;ignore&#x27;))]),\n",
       "                                 [&#x27;shotType&#x27;, &#x27;lastEventCategory&#x27;, &#x27;team&#x27;,\n",
       "                                  &#x27;shooterLeftRight&#x27;])])</pre></div></div></div><div class=\"sk-parallel\"><div class=\"sk-parallel-item\"><div class=\"sk-item\"><div class=\"sk-label-container\"><div class=\"sk-label sk-toggleable\"><input class=\"sk-toggleable__control sk-hidden--visually\" id=\"sk-estimator-id-45\" type=\"checkbox\" ><label for=\"sk-estimator-id-45\" class=\"sk-toggleable__label sk-toggleable__label-arrow\">standardscaler</label><div class=\"sk-toggleable__content\"><pre>[&#x27;arenaAdjustedShotDistance&#x27;, &#x27;distanceFromLastEvent&#x27;, &#x27;shotAngle&#x27;, &#x27;xCordAdjusted&#x27;, &#x27;yCordAdjusted&#x27;, &#x27;defendingTeamDefencemenOnIce&#x27;, &#x27;defendingTeamForwardsOnIce&#x27;, &#x27;defendingTeamGoals&#x27;, &#x27;shootingTeamDefencemenOnIce&#x27;, &#x27;shootingTeamForwardsOnIce&#x27;, &#x27;shootingTeamGoals&#x27;]</pre></div></div></div><div class=\"sk-serial\"><div class=\"sk-item\"><div class=\"sk-estimator sk-toggleable\"><input class=\"sk-toggleable__control sk-hidden--visually\" id=\"sk-estimator-id-46\" type=\"checkbox\" ><label for=\"sk-estimator-id-46\" class=\"sk-toggleable__label sk-toggleable__label-arrow\">StandardScaler</label><div class=\"sk-toggleable__content\"><pre>StandardScaler()</pre></div></div></div></div></div></div><div class=\"sk-parallel-item\"><div class=\"sk-item\"><div class=\"sk-label-container\"><div class=\"sk-label sk-toggleable\"><input class=\"sk-toggleable__control sk-hidden--visually\" id=\"sk-estimator-id-47\" type=\"checkbox\" ><label for=\"sk-estimator-id-47\" class=\"sk-toggleable__label sk-toggleable__label-arrow\">onehotencoder</label><div class=\"sk-toggleable__content\"><pre>[&#x27;isPlayoffGame&#x27;, &#x27;shootingTeamEmptyNet&#x27;, &#x27;defendingTeamEmptyNet&#x27;]</pre></div></div></div><div class=\"sk-serial\"><div class=\"sk-item\"><div class=\"sk-estimator sk-toggleable\"><input class=\"sk-toggleable__control sk-hidden--visually\" id=\"sk-estimator-id-48\" type=\"checkbox\" ><label for=\"sk-estimator-id-48\" class=\"sk-toggleable__label sk-toggleable__label-arrow\">OneHotEncoder</label><div class=\"sk-toggleable__content\"><pre>OneHotEncoder(drop=&#x27;if_binary&#x27;, dtype=&lt;class &#x27;int&#x27;&gt;)</pre></div></div></div></div></div></div><div class=\"sk-parallel-item\"><div class=\"sk-item\"><div class=\"sk-label-container\"><div class=\"sk-label sk-toggleable\"><input class=\"sk-toggleable__control sk-hidden--visually\" id=\"sk-estimator-id-49\" type=\"checkbox\" ><label for=\"sk-estimator-id-49\" class=\"sk-toggleable__label sk-toggleable__label-arrow\">pipeline</label><div class=\"sk-toggleable__content\"><pre>[&#x27;shotType&#x27;, &#x27;lastEventCategory&#x27;, &#x27;team&#x27;, &#x27;shooterLeftRight&#x27;]</pre></div></div></div><div class=\"sk-serial\"><div class=\"sk-item\"><div class=\"sk-serial\"><div class=\"sk-item\"><div class=\"sk-estimator sk-toggleable\"><input class=\"sk-toggleable__control sk-hidden--visually\" id=\"sk-estimator-id-50\" type=\"checkbox\" ><label for=\"sk-estimator-id-50\" class=\"sk-toggleable__label sk-toggleable__label-arrow\">SimpleImputer</label><div class=\"sk-toggleable__content\"><pre>SimpleImputer(strategy=&#x27;most_frequent&#x27;)</pre></div></div></div><div class=\"sk-item\"><div class=\"sk-estimator sk-toggleable\"><input class=\"sk-toggleable__control sk-hidden--visually\" id=\"sk-estimator-id-51\" type=\"checkbox\" ><label for=\"sk-estimator-id-51\" class=\"sk-toggleable__label sk-toggleable__label-arrow\">OneHotEncoder</label><div class=\"sk-toggleable__content\"><pre>OneHotEncoder(handle_unknown=&#x27;ignore&#x27;)</pre></div></div></div></div></div></div></div></div></div></div><div class=\"sk-item\"><div class=\"sk-estimator sk-toggleable\"><input class=\"sk-toggleable__control sk-hidden--visually\" id=\"sk-estimator-id-52\" type=\"checkbox\" ><label for=\"sk-estimator-id-52\" class=\"sk-toggleable__label sk-toggleable__label-arrow\">GradientBoostingClassifier</label><div class=\"sk-toggleable__content\"><pre>GradientBoostingClassifier(random_state=123)</pre></div></div></div></div></div></div></div>"
      ],
      "text/plain": [
       "Pipeline(steps=[('columntransformer',\n",
       "                 ColumnTransformer(transformers=[('standardscaler',\n",
       "                                                  StandardScaler(),\n",
       "                                                  ['arenaAdjustedShotDistance',\n",
       "                                                   'distanceFromLastEvent',\n",
       "                                                   'shotAngle', 'xCordAdjusted',\n",
       "                                                   'yCordAdjusted',\n",
       "                                                   'defendingTeamDefencemenOnIce',\n",
       "                                                   'defendingTeamForwardsOnIce',\n",
       "                                                   'defendingTeamGoals',\n",
       "                                                   'shootingTeamDefencemenOnIce',\n",
       "                                                   'shootingTeamForwardsOnIce',\n",
       "                                                   'shootingT...\n",
       "                                                  ['isPlayoffGame',\n",
       "                                                   'shootingTeamEmptyNet',\n",
       "                                                   'defendingTeamEmptyNet']),\n",
       "                                                 ('pipeline',\n",
       "                                                  Pipeline(steps=[('simpleimputer',\n",
       "                                                                   SimpleImputer(strategy='most_frequent')),\n",
       "                                                                  ('onehotencoder',\n",
       "                                                                   OneHotEncoder(handle_unknown='ignore'))]),\n",
       "                                                  ['shotType',\n",
       "                                                   'lastEventCategory', 'team',\n",
       "                                                   'shooterLeftRight'])])),\n",
       "                ('gradientboostingclassifier',\n",
       "                 GradientBoostingClassifier(random_state=123))])"
      ]
     },
     "execution_count": 44,
     "metadata": {},
     "output_type": "execute_result"
    }
   ],
   "source": [
    "pip_gbc.fit(X_train, y_train) #"
   ]
  },
  {
   "cell_type": "code",
   "execution_count": 45,
   "id": "ded45dba-71e3-4243-a591-67b2fe7880c7",
   "metadata": {},
   "outputs": [
    {
     "data": {
      "text/plain": [
       "0.7516624115149241"
      ]
     },
     "execution_count": 45,
     "metadata": {},
     "output_type": "execute_result"
    }
   ],
   "source": [
    "roc_gbc = roc_auc_score(y_test, pip_gbc.predict_proba(X_test)[:, 1])\n",
    "roc_gbc"
   ]
  },
  {
   "cell_type": "code",
   "execution_count": 46,
   "id": "792434d1-1859-445e-9989-c9a628c50775",
   "metadata": {},
   "outputs": [
    {
     "data": {
      "text/plain": [
       "0.22678119070222139"
      ]
     },
     "execution_count": 46,
     "metadata": {},
     "output_type": "execute_result"
    }
   ],
   "source": [
    "log_loss(y_test,pip_gbc.predict_proba(X_test)[:,1])"
   ]
  },
  {
   "cell_type": "code",
   "execution_count": 47,
   "id": "ec6b3a99-e6b1-4e9a-8b34-01ed524a1b7a",
   "metadata": {},
   "outputs": [],
   "source": [
    "pipe_rf = make_pipeline(preprocessor, RandomForestClassifier(n_estimators=100, random_state=123))"
   ]
  },
  {
   "cell_type": "code",
   "execution_count": 48,
   "id": "be9abf1f-710d-441f-b43e-cf13d83aa33e",
   "metadata": {},
   "outputs": [],
   "source": [
    "param_grid = {\n",
    "    'randomforestclassifier__min_samples_leaf': [50, 100, 250, 500]\n",
    "}"
   ]
  },
  {
   "cell_type": "code",
   "execution_count": 49,
   "id": "8fce0918-0d85-4e12-9e69-25ceabe6b0d6",
   "metadata": {},
   "outputs": [],
   "source": [
    "pipe_rf_opt = GridSearchCV(pipe_rf, param_grid=param_grid, cv=10)"
   ]
  },
  {
   "cell_type": "code",
   "execution_count": 50,
   "id": "72e22897-ce89-4344-b475-e8e1515eae0b",
   "metadata": {},
   "outputs": [
    {
     "data": {
      "text/html": [
       "<style>#sk-container-id-6 {color: black;background-color: white;}#sk-container-id-6 pre{padding: 0;}#sk-container-id-6 div.sk-toggleable {background-color: white;}#sk-container-id-6 label.sk-toggleable__label {cursor: pointer;display: block;width: 100%;margin-bottom: 0;padding: 0.3em;box-sizing: border-box;text-align: center;}#sk-container-id-6 label.sk-toggleable__label-arrow:before {content: \"▸\";float: left;margin-right: 0.25em;color: #696969;}#sk-container-id-6 label.sk-toggleable__label-arrow:hover:before {color: black;}#sk-container-id-6 div.sk-estimator:hover label.sk-toggleable__label-arrow:before {color: black;}#sk-container-id-6 div.sk-toggleable__content {max-height: 0;max-width: 0;overflow: hidden;text-align: left;background-color: #f0f8ff;}#sk-container-id-6 div.sk-toggleable__content pre {margin: 0.2em;color: black;border-radius: 0.25em;background-color: #f0f8ff;}#sk-container-id-6 input.sk-toggleable__control:checked~div.sk-toggleable__content {max-height: 200px;max-width: 100%;overflow: auto;}#sk-container-id-6 input.sk-toggleable__control:checked~label.sk-toggleable__label-arrow:before {content: \"▾\";}#sk-container-id-6 div.sk-estimator input.sk-toggleable__control:checked~label.sk-toggleable__label {background-color: #d4ebff;}#sk-container-id-6 div.sk-label input.sk-toggleable__control:checked~label.sk-toggleable__label {background-color: #d4ebff;}#sk-container-id-6 input.sk-hidden--visually {border: 0;clip: rect(1px 1px 1px 1px);clip: rect(1px, 1px, 1px, 1px);height: 1px;margin: -1px;overflow: hidden;padding: 0;position: absolute;width: 1px;}#sk-container-id-6 div.sk-estimator {font-family: monospace;background-color: #f0f8ff;border: 1px dotted black;border-radius: 0.25em;box-sizing: border-box;margin-bottom: 0.5em;}#sk-container-id-6 div.sk-estimator:hover {background-color: #d4ebff;}#sk-container-id-6 div.sk-parallel-item::after {content: \"\";width: 100%;border-bottom: 1px solid gray;flex-grow: 1;}#sk-container-id-6 div.sk-label:hover label.sk-toggleable__label {background-color: #d4ebff;}#sk-container-id-6 div.sk-serial::before {content: \"\";position: absolute;border-left: 1px solid gray;box-sizing: border-box;top: 0;bottom: 0;left: 50%;z-index: 0;}#sk-container-id-6 div.sk-serial {display: flex;flex-direction: column;align-items: center;background-color: white;padding-right: 0.2em;padding-left: 0.2em;position: relative;}#sk-container-id-6 div.sk-item {position: relative;z-index: 1;}#sk-container-id-6 div.sk-parallel {display: flex;align-items: stretch;justify-content: center;background-color: white;position: relative;}#sk-container-id-6 div.sk-item::before, #sk-container-id-6 div.sk-parallel-item::before {content: \"\";position: absolute;border-left: 1px solid gray;box-sizing: border-box;top: 0;bottom: 0;left: 50%;z-index: -1;}#sk-container-id-6 div.sk-parallel-item {display: flex;flex-direction: column;z-index: 1;position: relative;background-color: white;}#sk-container-id-6 div.sk-parallel-item:first-child::after {align-self: flex-end;width: 50%;}#sk-container-id-6 div.sk-parallel-item:last-child::after {align-self: flex-start;width: 50%;}#sk-container-id-6 div.sk-parallel-item:only-child::after {width: 0;}#sk-container-id-6 div.sk-dashed-wrapped {border: 1px dashed gray;margin: 0 0.4em 0.5em 0.4em;box-sizing: border-box;padding-bottom: 0.4em;background-color: white;}#sk-container-id-6 div.sk-label label {font-family: monospace;font-weight: bold;display: inline-block;line-height: 1.2em;}#sk-container-id-6 div.sk-label-container {text-align: center;}#sk-container-id-6 div.sk-container {/* jupyter's `normalize.less` sets `[hidden] { display: none; }` but bootstrap.min.css set `[hidden] { display: none !important; }` so we also need the `!important` here to be able to override the default hidden behavior on the sphinx rendered scikit-learn.org. See: https://github.com/scikit-learn/scikit-learn/issues/21755 */display: inline-block !important;position: relative;}#sk-container-id-6 div.sk-text-repr-fallback {display: none;}</style><div id=\"sk-container-id-6\" class=\"sk-top-container\"><div class=\"sk-text-repr-fallback\"><pre>Pipeline(steps=[(&#x27;columntransformer&#x27;,\n",
       "                 ColumnTransformer(transformers=[(&#x27;standardscaler&#x27;,\n",
       "                                                  StandardScaler(),\n",
       "                                                  [&#x27;arenaAdjustedShotDistance&#x27;,\n",
       "                                                   &#x27;distanceFromLastEvent&#x27;,\n",
       "                                                   &#x27;shotAngle&#x27;, &#x27;xCordAdjusted&#x27;,\n",
       "                                                   &#x27;yCordAdjusted&#x27;,\n",
       "                                                   &#x27;defendingTeamDefencemenOnIce&#x27;,\n",
       "                                                   &#x27;defendingTeamForwardsOnIce&#x27;,\n",
       "                                                   &#x27;defendingTeamGoals&#x27;,\n",
       "                                                   &#x27;shootingTeamDefencemenOnIce&#x27;,\n",
       "                                                   &#x27;shootingTeamForwardsOnIce&#x27;,\n",
       "                                                   &#x27;shootingT...\n",
       "                                                                dtype=&lt;class &#x27;int&#x27;&gt;),\n",
       "                                                  [&#x27;isPlayoffGame&#x27;,\n",
       "                                                   &#x27;shootingTeamEmptyNet&#x27;,\n",
       "                                                   &#x27;defendingTeamEmptyNet&#x27;]),\n",
       "                                                 (&#x27;pipeline&#x27;,\n",
       "                                                  Pipeline(steps=[(&#x27;simpleimputer&#x27;,\n",
       "                                                                   SimpleImputer(strategy=&#x27;most_frequent&#x27;)),\n",
       "                                                                  (&#x27;onehotencoder&#x27;,\n",
       "                                                                   OneHotEncoder(handle_unknown=&#x27;ignore&#x27;))]),\n",
       "                                                  [&#x27;shotType&#x27;,\n",
       "                                                   &#x27;lastEventCategory&#x27;, &#x27;team&#x27;,\n",
       "                                                   &#x27;shooterLeftRight&#x27;])])),\n",
       "                (&#x27;randomforestclassifier&#x27;,\n",
       "                 RandomForestClassifier(random_state=123))])</pre><b>In a Jupyter environment, please rerun this cell to show the HTML representation or trust the notebook. <br />On GitHub, the HTML representation is unable to render, please try loading this page with nbviewer.org.</b></div><div class=\"sk-container\" hidden><div class=\"sk-item sk-dashed-wrapped\"><div class=\"sk-label-container\"><div class=\"sk-label sk-toggleable\"><input class=\"sk-toggleable__control sk-hidden--visually\" id=\"sk-estimator-id-53\" type=\"checkbox\" ><label for=\"sk-estimator-id-53\" class=\"sk-toggleable__label sk-toggleable__label-arrow\">Pipeline</label><div class=\"sk-toggleable__content\"><pre>Pipeline(steps=[(&#x27;columntransformer&#x27;,\n",
       "                 ColumnTransformer(transformers=[(&#x27;standardscaler&#x27;,\n",
       "                                                  StandardScaler(),\n",
       "                                                  [&#x27;arenaAdjustedShotDistance&#x27;,\n",
       "                                                   &#x27;distanceFromLastEvent&#x27;,\n",
       "                                                   &#x27;shotAngle&#x27;, &#x27;xCordAdjusted&#x27;,\n",
       "                                                   &#x27;yCordAdjusted&#x27;,\n",
       "                                                   &#x27;defendingTeamDefencemenOnIce&#x27;,\n",
       "                                                   &#x27;defendingTeamForwardsOnIce&#x27;,\n",
       "                                                   &#x27;defendingTeamGoals&#x27;,\n",
       "                                                   &#x27;shootingTeamDefencemenOnIce&#x27;,\n",
       "                                                   &#x27;shootingTeamForwardsOnIce&#x27;,\n",
       "                                                   &#x27;shootingT...\n",
       "                                                                dtype=&lt;class &#x27;int&#x27;&gt;),\n",
       "                                                  [&#x27;isPlayoffGame&#x27;,\n",
       "                                                   &#x27;shootingTeamEmptyNet&#x27;,\n",
       "                                                   &#x27;defendingTeamEmptyNet&#x27;]),\n",
       "                                                 (&#x27;pipeline&#x27;,\n",
       "                                                  Pipeline(steps=[(&#x27;simpleimputer&#x27;,\n",
       "                                                                   SimpleImputer(strategy=&#x27;most_frequent&#x27;)),\n",
       "                                                                  (&#x27;onehotencoder&#x27;,\n",
       "                                                                   OneHotEncoder(handle_unknown=&#x27;ignore&#x27;))]),\n",
       "                                                  [&#x27;shotType&#x27;,\n",
       "                                                   &#x27;lastEventCategory&#x27;, &#x27;team&#x27;,\n",
       "                                                   &#x27;shooterLeftRight&#x27;])])),\n",
       "                (&#x27;randomforestclassifier&#x27;,\n",
       "                 RandomForestClassifier(random_state=123))])</pre></div></div></div><div class=\"sk-serial\"><div class=\"sk-item sk-dashed-wrapped\"><div class=\"sk-label-container\"><div class=\"sk-label sk-toggleable\"><input class=\"sk-toggleable__control sk-hidden--visually\" id=\"sk-estimator-id-54\" type=\"checkbox\" ><label for=\"sk-estimator-id-54\" class=\"sk-toggleable__label sk-toggleable__label-arrow\">columntransformer: ColumnTransformer</label><div class=\"sk-toggleable__content\"><pre>ColumnTransformer(transformers=[(&#x27;standardscaler&#x27;, StandardScaler(),\n",
       "                                 [&#x27;arenaAdjustedShotDistance&#x27;,\n",
       "                                  &#x27;distanceFromLastEvent&#x27;, &#x27;shotAngle&#x27;,\n",
       "                                  &#x27;xCordAdjusted&#x27;, &#x27;yCordAdjusted&#x27;,\n",
       "                                  &#x27;defendingTeamDefencemenOnIce&#x27;,\n",
       "                                  &#x27;defendingTeamForwardsOnIce&#x27;,\n",
       "                                  &#x27;defendingTeamGoals&#x27;,\n",
       "                                  &#x27;shootingTeamDefencemenOnIce&#x27;,\n",
       "                                  &#x27;shootingTeamForwardsOnIce&#x27;,\n",
       "                                  &#x27;shootingTeamGoals&#x27;]),\n",
       "                                (&#x27;onehotencoder&#x27;,\n",
       "                                 OneHotEncoder(drop=&#x27;if_binary&#x27;,\n",
       "                                               dtype=&lt;class &#x27;int&#x27;&gt;),\n",
       "                                 [&#x27;isPlayoffGame&#x27;, &#x27;shootingTeamEmptyNet&#x27;,\n",
       "                                  &#x27;defendingTeamEmptyNet&#x27;]),\n",
       "                                (&#x27;pipeline&#x27;,\n",
       "                                 Pipeline(steps=[(&#x27;simpleimputer&#x27;,\n",
       "                                                  SimpleImputer(strategy=&#x27;most_frequent&#x27;)),\n",
       "                                                 (&#x27;onehotencoder&#x27;,\n",
       "                                                  OneHotEncoder(handle_unknown=&#x27;ignore&#x27;))]),\n",
       "                                 [&#x27;shotType&#x27;, &#x27;lastEventCategory&#x27;, &#x27;team&#x27;,\n",
       "                                  &#x27;shooterLeftRight&#x27;])])</pre></div></div></div><div class=\"sk-parallel\"><div class=\"sk-parallel-item\"><div class=\"sk-item\"><div class=\"sk-label-container\"><div class=\"sk-label sk-toggleable\"><input class=\"sk-toggleable__control sk-hidden--visually\" id=\"sk-estimator-id-55\" type=\"checkbox\" ><label for=\"sk-estimator-id-55\" class=\"sk-toggleable__label sk-toggleable__label-arrow\">standardscaler</label><div class=\"sk-toggleable__content\"><pre>[&#x27;arenaAdjustedShotDistance&#x27;, &#x27;distanceFromLastEvent&#x27;, &#x27;shotAngle&#x27;, &#x27;xCordAdjusted&#x27;, &#x27;yCordAdjusted&#x27;, &#x27;defendingTeamDefencemenOnIce&#x27;, &#x27;defendingTeamForwardsOnIce&#x27;, &#x27;defendingTeamGoals&#x27;, &#x27;shootingTeamDefencemenOnIce&#x27;, &#x27;shootingTeamForwardsOnIce&#x27;, &#x27;shootingTeamGoals&#x27;]</pre></div></div></div><div class=\"sk-serial\"><div class=\"sk-item\"><div class=\"sk-estimator sk-toggleable\"><input class=\"sk-toggleable__control sk-hidden--visually\" id=\"sk-estimator-id-56\" type=\"checkbox\" ><label for=\"sk-estimator-id-56\" class=\"sk-toggleable__label sk-toggleable__label-arrow\">StandardScaler</label><div class=\"sk-toggleable__content\"><pre>StandardScaler()</pre></div></div></div></div></div></div><div class=\"sk-parallel-item\"><div class=\"sk-item\"><div class=\"sk-label-container\"><div class=\"sk-label sk-toggleable\"><input class=\"sk-toggleable__control sk-hidden--visually\" id=\"sk-estimator-id-57\" type=\"checkbox\" ><label for=\"sk-estimator-id-57\" class=\"sk-toggleable__label sk-toggleable__label-arrow\">onehotencoder</label><div class=\"sk-toggleable__content\"><pre>[&#x27;isPlayoffGame&#x27;, &#x27;shootingTeamEmptyNet&#x27;, &#x27;defendingTeamEmptyNet&#x27;]</pre></div></div></div><div class=\"sk-serial\"><div class=\"sk-item\"><div class=\"sk-estimator sk-toggleable\"><input class=\"sk-toggleable__control sk-hidden--visually\" id=\"sk-estimator-id-58\" type=\"checkbox\" ><label for=\"sk-estimator-id-58\" class=\"sk-toggleable__label sk-toggleable__label-arrow\">OneHotEncoder</label><div class=\"sk-toggleable__content\"><pre>OneHotEncoder(drop=&#x27;if_binary&#x27;, dtype=&lt;class &#x27;int&#x27;&gt;)</pre></div></div></div></div></div></div><div class=\"sk-parallel-item\"><div class=\"sk-item\"><div class=\"sk-label-container\"><div class=\"sk-label sk-toggleable\"><input class=\"sk-toggleable__control sk-hidden--visually\" id=\"sk-estimator-id-59\" type=\"checkbox\" ><label for=\"sk-estimator-id-59\" class=\"sk-toggleable__label sk-toggleable__label-arrow\">pipeline</label><div class=\"sk-toggleable__content\"><pre>[&#x27;shotType&#x27;, &#x27;lastEventCategory&#x27;, &#x27;team&#x27;, &#x27;shooterLeftRight&#x27;]</pre></div></div></div><div class=\"sk-serial\"><div class=\"sk-item\"><div class=\"sk-serial\"><div class=\"sk-item\"><div class=\"sk-estimator sk-toggleable\"><input class=\"sk-toggleable__control sk-hidden--visually\" id=\"sk-estimator-id-60\" type=\"checkbox\" ><label for=\"sk-estimator-id-60\" class=\"sk-toggleable__label sk-toggleable__label-arrow\">SimpleImputer</label><div class=\"sk-toggleable__content\"><pre>SimpleImputer(strategy=&#x27;most_frequent&#x27;)</pre></div></div></div><div class=\"sk-item\"><div class=\"sk-estimator sk-toggleable\"><input class=\"sk-toggleable__control sk-hidden--visually\" id=\"sk-estimator-id-61\" type=\"checkbox\" ><label for=\"sk-estimator-id-61\" class=\"sk-toggleable__label sk-toggleable__label-arrow\">OneHotEncoder</label><div class=\"sk-toggleable__content\"><pre>OneHotEncoder(handle_unknown=&#x27;ignore&#x27;)</pre></div></div></div></div></div></div></div></div></div></div><div class=\"sk-item\"><div class=\"sk-estimator sk-toggleable\"><input class=\"sk-toggleable__control sk-hidden--visually\" id=\"sk-estimator-id-62\" type=\"checkbox\" ><label for=\"sk-estimator-id-62\" class=\"sk-toggleable__label sk-toggleable__label-arrow\">RandomForestClassifier</label><div class=\"sk-toggleable__content\"><pre>RandomForestClassifier(random_state=123)</pre></div></div></div></div></div></div></div>"
      ],
      "text/plain": [
       "Pipeline(steps=[('columntransformer',\n",
       "                 ColumnTransformer(transformers=[('standardscaler',\n",
       "                                                  StandardScaler(),\n",
       "                                                  ['arenaAdjustedShotDistance',\n",
       "                                                   'distanceFromLastEvent',\n",
       "                                                   'shotAngle', 'xCordAdjusted',\n",
       "                                                   'yCordAdjusted',\n",
       "                                                   'defendingTeamDefencemenOnIce',\n",
       "                                                   'defendingTeamForwardsOnIce',\n",
       "                                                   'defendingTeamGoals',\n",
       "                                                   'shootingTeamDefencemenOnIce',\n",
       "                                                   'shootingTeamForwardsOnIce',\n",
       "                                                   'shootingT...\n",
       "                                                                dtype=<class 'int'>),\n",
       "                                                  ['isPlayoffGame',\n",
       "                                                   'shootingTeamEmptyNet',\n",
       "                                                   'defendingTeamEmptyNet']),\n",
       "                                                 ('pipeline',\n",
       "                                                  Pipeline(steps=[('simpleimputer',\n",
       "                                                                   SimpleImputer(strategy='most_frequent')),\n",
       "                                                                  ('onehotencoder',\n",
       "                                                                   OneHotEncoder(handle_unknown='ignore'))]),\n",
       "                                                  ['shotType',\n",
       "                                                   'lastEventCategory', 'team',\n",
       "                                                   'shooterLeftRight'])])),\n",
       "                ('randomforestclassifier',\n",
       "                 RandomForestClassifier(random_state=123))])"
      ]
     },
     "execution_count": 50,
     "metadata": {},
     "output_type": "execute_result"
    }
   ],
   "source": [
    "pipe_rf.fit(X_train, y_train)"
   ]
  },
  {
   "cell_type": "code",
   "execution_count": 51,
   "id": "cc868089-1804-4f1a-826e-98b282e6e5e3",
   "metadata": {},
   "outputs": [
    {
     "data": {
      "text/plain": [
       "0.3038023072008423"
      ]
     },
     "execution_count": 51,
     "metadata": {},
     "output_type": "execute_result"
    }
   ],
   "source": [
    "log_loss(y_test,pipe_rf.predict_proba(X_test)[:,1])"
   ]
  },
  {
   "cell_type": "code",
   "execution_count": 52,
   "id": "ac82c09e-91cb-4790-b984-eec12b927a70",
   "metadata": {},
   "outputs": [
    {
     "data": {
      "text/plain": [
       "0.7183896744303828"
      ]
     },
     "execution_count": 52,
     "metadata": {},
     "output_type": "execute_result"
    }
   ],
   "source": [
    "roc_gbc = roc_auc_score(y_test, pipe_rf.predict_proba(X_test)[:, 1])\n",
    "roc_gbc"
   ]
  },
  {
   "cell_type": "code",
   "execution_count": 53,
   "id": "2298a27d-d99b-41a9-9093-39831193bdbc",
   "metadata": {
    "tags": []
   },
   "outputs": [],
   "source": [
    "def get_roc(actual, predictions):\n",
    "    \"\"\"\n",
    "    Get the roc curve (and auc score) for the different models\n",
    "    \"\"\"\n",
    "    fig = plt.figure()\n",
    "    plt.title('ROC Curves')\n",
    "    plt.xlim([0, 1])\n",
    "    plt.ylim([0, 1])\n",
    "    plt.ylabel('True Positive Rate')\n",
    "    plt.xlabel('False Positive Rate')\n",
    "\n",
    "    colors = ['b', 'g', 'p']\n",
    "\n",
    "    for model, color in zip(predictions.keys(), colors):\n",
    "        # Convert preds to just prob of goal\n",
    "        preds = [pred[1] for pred in predictions[model]]\n",
    "\n",
    "        false_positive_rate, true_positive_rate, thresholds = roc_curve(actual, preds)\n",
    "        roc_auc = auc(false_positive_rate, true_positive_rate)\n",
    "        plt.plot(false_positive_rate, true_positive_rate, label=' '.join([model + ':', str(round(roc_auc, 3))]))\n",
    "\n",
    "    # Add \"Random\" score\n",
    "    plt.plot([0, 1], [0, 1], 'r--', label=' '.join([\"Random:\", str(.5)]))\n",
    "\n",
    "    plt.legend(title='AUC Score', loc=4)\n",
    "    fig.savefig(\"ROC_xG.png\")\n"
   ]
  },
  {
   "cell_type": "code",
   "execution_count": 54,
   "id": "3c479717-88f1-4190-acb5-1a72f24f920d",
   "metadata": {},
   "outputs": [
    {
     "data": {
      "image/png": "[encoded data removed]",
      "text/plain": [
       "<Figure size 640x480 with 1 Axes>"
      ]
     },
     "metadata": {},
     "output_type": "display_data"
    }
   ],
   "source": [
    "preds = {\n",
    "    \"Random Forest\": pipe_rf.predict_proba(X_test),\n",
    "    \"Gradient Boosting\": pip_gbc.predict_proba(X_test),\n",
    "    \"Logistic Regression\": pipe_lr_unopt.predict_proba(X_test)\n",
    "}\n",
    "get_roc(y_test, preds)\n"
   ]
  },
  {
   "cell_type": "code",
   "execution_count": 55,
   "id": "db5e8a84-f06c-4800-9418-2c1cf10c5327",
   "metadata": {},
   "outputs": [
    {
     "data": {
      "text/plain": [
       "0.22678119070222139"
      ]
     },
     "execution_count": 55,
     "metadata": {},
     "output_type": "execute_result"
    }
   ],
   "source": [
    "log_loss(y_test,pip_gbc.predict_proba(X_test)[:,1])"
   ]
  },
  {
   "cell_type": "code",
   "execution_count": 56,
   "id": "933325b5-9894-4a44-807e-f8f79547a630",
   "metadata": {},
   "outputs": [
    {
     "data": {
      "text/plain": [
       "0.3038023072008423"
      ]
     },
     "execution_count": 56,
     "metadata": {},
     "output_type": "execute_result"
    }
   ],
   "source": [
    "log_loss(y_test,pipe_rf.predict_proba(X_test)[:,1])"
   ]
  },
  {
   "cell_type": "code",
   "execution_count": 57,
   "id": "4d471a3c-a0e3-4856-a5df-09f674cf6879",
   "metadata": {},
   "outputs": [
    {
     "data": {
      "text/plain": [
       "0.22869406791331887"
      ]
     },
     "execution_count": 57,
     "metadata": {},
     "output_type": "execute_result"
    }
   ],
   "source": [
    "log_loss(y_test,pipe_lr_unopt.predict_proba(X_test)[:,1])"
   ]
  },
  {
   "cell_type": "code",
   "execution_count": null,
   "id": "c1f71c6d-d281-437f-9933-0464cc574225",
   "metadata": {},
   "outputs": [],
   "source": []
  }
 ],
 "metadata": {
  "kernelspec": {
   "display_name": "Python 3 (ipykernel)",
   "language": "python",
   "name": "python3"
  },
  "language_info": {
   "codemirror_mode": {
    "name": "ipython",
    "version": 3
   },
   "file_extension": ".py",
   "mimetype": "text/x-python",
   "name": "python",
   "nbconvert_exporter": "python",
   "pygments_lexer": "ipython3",
   "version": "3.10.8"
  }
 },
 "nbformat": 4,
 "nbformat_minor": 5
}
